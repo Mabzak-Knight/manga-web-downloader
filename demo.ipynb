{
  "nbformat": 4,
  "nbformat_minor": 0,
  "metadata": {
    "colab": {
      "provenance": [],
      "authorship_tag": "ABX9TyNM0ZUq/hcg8dPUsjS0VemU",
      "include_colab_link": true
    },
    "kernelspec": {
      "name": "python3",
      "display_name": "Python 3"
    },
    "language_info": {
      "name": "python"
    }
  },
  "cells": [
    {
      "cell_type": "markdown",
      "metadata": {
        "id": "view-in-github",
        "colab_type": "text"
      },
      "source": [
        "<a href=\"https://colab.research.google.com/github/Mabzak-Knight/manga-web-downloader/blob/main/demo.ipynb\" target=\"_parent\"><img src=\"https://colab.research.google.com/assets/colab-badge.svg\" alt=\"Open In Colab\"/></a>"
      ]
    },
    {
      "cell_type": "code",
      "source": [
        "#@title Instalisasi\n",
        "#@markdown Paket program\n",
        "!pip install requests\n",
        "!pip install beautifulsoup4\n",
        "!pip install fpdf\n",
        "!pip install reportlab\n",
        "\n",
        "import requests\n",
        "from bs4 import BeautifulSoup\n",
        "import os\n",
        "\n",
        "def check_image_size(url):\n",
        "    response = requests.get(url)\n",
        "    if response.status_code == 200:\n",
        "        # Memeriksa panjang konten (size) dari respons\n",
        "        content_length = int(response.headers['Content-Length'])\n",
        "        if content_length > 0:\n",
        "            return True\n",
        "        else:\n",
        "            return False\n",
        "    else:\n",
        "        return False\n",
        "\n",
        "def get_image_urls_section(url, class_name, tag_name):\n",
        "    \"\"\"\n",
        "    Mengambil URL dari semua gambar di dalam elemen <div> dengan kelas tertentu.\n",
        "\n",
        "    Args:\n",
        "        url (str): URL dari website.\n",
        "        class_name (str): Nama kelas dari elemen <div> yang mengandung gambar.\n",
        "\n",
        "    Returns:\n",
        "        list: Daftar URL dari gambar.\n",
        "    \"\"\"\n",
        "    # Mengirim permintaan GET untuk mengunduh halaman web\n",
        "    response = requests.get(url)\n",
        "\n",
        "    # Memeriksa apakah permintaan berhasil\n",
        "    if response.status_code == 200:\n",
        "        # Menggunakan BeautifulSoup untuk mengurai HTML\n",
        "        soup = BeautifulSoup(response.content, 'html.parser')\n",
        "\n",
        "        # Mencari elemen <section> dengan kelas yang diberikan\n",
        "        div_element = soup.find(tag_name, {'id': class_name})\n",
        "\n",
        "        # Jika elemen ditemukan, cari semua elemen gambar di dalamnya\n",
        "        if div_element:\n",
        "            images = div_element.find_all('img')\n",
        "\n",
        "            # Mengambil URL dari setiap gambar\n",
        "            image_urls = [image['src'] for image in images]\n",
        "            return image_urls\n",
        "        else:\n",
        "            print(f\"Elemen <div> dengan kelas '{class_name}' tidak ditemukan.\")\n",
        "    else:\n",
        "        print(f\"Gagal mengakses {url}. Status code: {response.status_code}\")\n",
        "\n",
        "\n",
        "def download_images(image_urls, folder_path):\n",
        "    for i, image_url in enumerate(image_urls):\n",
        "        response = requests.get(image_url)\n",
        "        if response.status_code == 200:\n",
        "            with open(os.path.join(folder_path, f'image_{i}.jpg'), 'wb') as f:\n",
        "                f.write(response.content)\n",
        "            print(f'Downloaded image_{i}.jpg')\n",
        "        else:\n",
        "            print(f'Failed to download image_{i}.jpg')\n",
        "\n",
        "def download_imageurl(url, folder_path, index):\n",
        "    response = requests.get(url)\n",
        "    if response.status_code == 200:\n",
        "        if check_image_size(url):\n",
        "          # Mengonversi indeks ke format string dengan padding nol\n",
        "          index_str = str(index).zfill(3)\n",
        "\n",
        "          # Membuat nama file dengan format \"image_001.jpg\"\n",
        "          file_name = f'image_{index_str}.jpg'\n",
        "\n",
        "          # Menggabungkan path folder dengan nama file\n",
        "          file_path = os.path.join(folder_path, file_name)\n",
        "\n",
        "          # Menyimpan konten gambar ke file\n",
        "          with open(file_path, 'wb') as f:\n",
        "              f.write(response.content)\n",
        "              print(f'Gambar berhasil diunduh dan disimpan di {file_path}')\n",
        "        else:\n",
        "            print(f\"Gambar Memiliki ukuran nol dari URL: {url}\")\n",
        "    else:\n",
        "        print(f'Gagal mengunduh gambar dari URL: {url}')\n"
      ],
      "metadata": {
        "cellView": "form",
        "id": "TBi8J0POY-1p"
      },
      "execution_count": 72,
      "outputs": []
    },
    {
      "cell_type": "code",
      "source": [
        "#@title Cek judul\n",
        "import requests\n",
        "from bs4 import BeautifulSoup\n",
        "\n",
        "# URL dari website yang ingin Anda baca judulnya\n",
        "url = \"https://komiku.id/ch/httpsadmin-komiku-orgmajutsushi-kunon-wa-miete-iru-chapter-07-2/\"  # @param {type:\"string\"}\n",
        "\n",
        "# Mengirim permintaan GET untuk mengunduh halaman web\n",
        "response = requests.get(url)\n",
        "\n",
        "# Memeriksa apakah permintaan berhasil\n",
        "if response.status_code == 200:\n",
        "    # Menggunakan BeautifulSoup untuk mengurai HTML\n",
        "    soup = BeautifulSoup(response.content, 'html.parser')\n",
        "\n",
        "    # Mencari elemen judul\n",
        "    title_element = soup.find('title')\n",
        "\n",
        "    # Memeriksa apakah elemen judul ditemukan\n",
        "    if title_element is not None:\n",
        "        # Mendapatkan teks dari elemen judul\n",
        "        title = title_element.get_text()\n",
        "        print(f\"Judul dari {url} adalah: {title}\")\n",
        "    else:\n",
        "        print(f\"Tidak dapat menemukan elemen judul di {url}\")\n",
        "else:\n",
        "    print(f\"Gagal mengakses {url}. Status code: {response.status_code}\")\n"
      ],
      "metadata": {
        "colab": {
          "base_uri": "https://localhost:8080/"
        },
        "cellView": "form",
        "id": "V2Y3Sx53Wr6I",
        "outputId": "566f615c-a6d3-495f-eedc-1baac1b46761"
      },
      "execution_count": 53,
      "outputs": [
        {
          "output_type": "stream",
          "name": "stdout",
          "text": [
            "Judul dari https://komiku.id/ch/httpsadmin-komiku-orgmajutsushi-kunon-wa-miete-iru-chapter-07-2/ adalah: Komik Majutsushi Kunon wa Miete Iru Chapter 07.2 - Komiku\n"
          ]
        }
      ]
    },
    {
      "cell_type": "code",
      "source": [
        "#@title Download gambar pada website\n",
        "# Contoh penggunaan:\n",
        "url = \"https://komiku.id/ch/httpsadmin-komiku-orgmajutsushi-kunon-wa-miete-iru-chapter-07-1/#2\"   # @param {type:\"string\"}\n",
        "id_name = \"Baca_Komik\"  # @param {type:\"string\"}\n",
        "tag_name = \"section\"  # @param {type:\"string\"}\n",
        "\n",
        "folder_path = \"./downloaded_image11\" # @param {type:\"string\"}\n",
        "os.makedirs(folder_path, exist_ok=True)\n",
        "\n",
        "image_urls = get_image_urls_section(url, id_name, tag_name)\n",
        "\n",
        "if image_urls:\n",
        "    index = 1  # Initialize index\n",
        "    for url in image_urls:\n",
        "        # Memanggil fungsi untuk mendownload dan menyimpan gambar\n",
        "        url = quote(url, safe='/:')\n",
        "        download_imageurl(url, folder_path, index)\n",
        "        index += 1  # Increment index for the next image"
      ],
      "metadata": {
        "cellView": "form",
        "id": "epx3Mra4gm3P"
      },
      "execution_count": 140,
      "outputs": []
    },
    {
      "cell_type": "code",
      "source": [
        "#@title Zip folder\n",
        "import zipfile\n",
        "import os\n",
        "\n",
        "def zip_folder(folder_path, zip_name):\n",
        "    # Membuat objek zip\n",
        "    with zipfile.ZipFile(zip_name, 'w', zipfile.ZIP_DEFLATED) as zipf:\n",
        "        # Melakukan iterasi di seluruh file dalam folder dan menambahkannya ke dalam zip\n",
        "        for root, dirs, files in os.walk(folder_path):\n",
        "            for file in files:\n",
        "                file_path = os.path.join(root, file)\n",
        "                arcname = os.path.relpath(file_path, folder_path)\n",
        "                zipf.write(file_path, arcname)\n",
        "\n",
        "# Contoh penggunaan\n",
        "folder_topath = folder_path #@param\n",
        "zip_name = 'output.zip' #@param {type:\"string\"}\n",
        "\n",
        "zip_folder(folder_topath, zip_name)\n"
      ],
      "metadata": {
        "cellView": "form",
        "id": "6N7dIYyB3gA0"
      },
      "execution_count": 74,
      "outputs": []
    },
    {
      "cell_type": "code",
      "source": [
        "#@title Pdf Folder\n",
        "import img2pdf\n",
        "import os\n",
        "\n",
        "def images_to_pdf(image_folder, output_pdf):\n",
        "    # Membuat daftar path file gambar\n",
        "    image_files = [os.path.join(image_folder, file) for file in os.listdir(image_folder) if file.lower().endswith(('.png', '.jpg', '.jpeg', '.gif', '.bmp'))]\n",
        "\n",
        "    # Mengonversi gambar ke PDF\n",
        "    with open(output_pdf, \"wb\") as f:\n",
        "        f.write(img2pdf.convert(image_files))\n",
        "\n",
        "# Contoh penggunaan\n",
        "folder_topath = folder_path #@param\n",
        "pdf_name = 'output.pdf' #@param {type:\"string\"}\n",
        "\n",
        "images_to_pdf(folder_topath, pdf_name)"
      ],
      "metadata": {
        "cellView": "form",
        "id": "vu2TCh8K5kF4"
      },
      "execution_count": null,
      "outputs": []
    }
  ]
}