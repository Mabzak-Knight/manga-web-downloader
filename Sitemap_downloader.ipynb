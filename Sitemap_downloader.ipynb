{
  "nbformat": 4,
  "nbformat_minor": 0,
  "metadata": {
    "colab": {
      "provenance": [],
      "authorship_tag": "ABX9TyOPXwWCFJLeK7cCanLhelO8",
      "include_colab_link": true
    },
    "kernelspec": {
      "name": "python3",
      "display_name": "Python 3"
    },
    "language_info": {
      "name": "python"
    }
  },
  "cells": [
    {
      "cell_type": "markdown",
      "metadata": {
        "id": "view-in-github",
        "colab_type": "text"
      },
      "source": [
        "<a href=\"https://colab.research.google.com/github/Mabzak-Knight/manga-web-downloader/blob/main/Sitemap_downloader.ipynb\" target=\"_parent\"><img src=\"https://colab.research.google.com/assets/colab-badge.svg\" alt=\"Open In Colab\"/></a>"
      ]
    },
    {
      "cell_type": "code",
      "source": [
        "!pip install requests\n",
        "!pip install tqdm"
      ],
      "metadata": {
        "colab": {
          "base_uri": "https://localhost:8080/"
        },
        "id": "efgWRj9LCeX_",
        "outputId": "f3174da4-0748-4f48-dc3e-b7a56e087d03"
      },
      "execution_count": 1,
      "outputs": [
        {
          "output_type": "stream",
          "name": "stdout",
          "text": [
            "Requirement already satisfied: requests in /usr/local/lib/python3.10/dist-packages (2.31.0)\n",
            "Requirement already satisfied: charset-normalizer<4,>=2 in /usr/local/lib/python3.10/dist-packages (from requests) (3.3.1)\n",
            "Requirement already satisfied: idna<4,>=2.5 in /usr/local/lib/python3.10/dist-packages (from requests) (3.4)\n",
            "Requirement already satisfied: urllib3<3,>=1.21.1 in /usr/local/lib/python3.10/dist-packages (from requests) (2.0.7)\n",
            "Requirement already satisfied: certifi>=2017.4.17 in /usr/local/lib/python3.10/dist-packages (from requests) (2023.7.22)\n"
          ]
        }
      ]
    },
    {
      "cell_type": "code",
      "source": [
        "import requests\n",
        "from bs4 import BeautifulSoup\n",
        "import pandas as pd\n",
        "\n",
        "def baca_sitemap(url, limit=None):\n",
        "    response = requests.get(url)\n",
        "\n",
        "    if response.status_code == 200:\n",
        "        soup = BeautifulSoup(response.content, \"xml\")\n",
        "        urls = soup.find_all(\"loc\")\n",
        "        if limit is not None:\n",
        "            urls = urls[:limit]\n",
        "        return [url.text for url in urls]\n",
        "    else:\n",
        "        print(\"Gagal mengunduh sitemap. Kode status:\", response.status_code)\n",
        "        return []\n",
        "\n",
        "def baca_info_chapter(url):\n",
        "    # Mendapatkan judul dan nomor chapter dari URL\n",
        "    judul = url.split(\"/\")[-2].replace(\"-\", \" \").title()\n",
        "    nomor_chapter = url.split(\"/\")[-1].replace(\"-\", \" \")\n",
        "\n",
        "    if \"Chapter \" in judul:\n",
        "        judul, nomor_chapter = judul.rsplit(\"Chapter \", 1)\n",
        "    elif \"chapter\" in judul:\n",
        "        nomor_chapter = \"0\"\n",
        "        if \"chapter\" in url:\n",
        "            nomor_chapter_candidate = url.split(\"chapter\")[-1].split(\"/\")[0]\n",
        "            if nomor_chapter_candidate.isdigit():\n",
        "                nomor_chapter = nomor_chapter_candidate\n",
        "    else:\n",
        "        nomor_chapter = \"0\"\n",
        "\n",
        "    # Menambahkan titik pada nomor chapter jika belum ada\n",
        "    if '.' not in nomor_chapter:\n",
        "        nomor_chapter = nomor_chapter.replace(' ', '.')\n",
        "\n",
        "    return (judul, nomor_chapter, url)"
      ],
      "metadata": {
        "id": "mx1qtpg-KKc-"
      },
      "execution_count": 113,
      "outputs": []
    },
    {
      "cell_type": "code",
      "source": [
        "baca_info_chapter('https://komiku.org/isekai-maou-to-shoukan-shoujo-dorei-majutsu-chapter-49-1-bahasa-indonesia/')"
      ],
      "metadata": {
        "colab": {
          "base_uri": "https://localhost:8080/"
        },
        "id": "_0tUb5alK_rQ",
        "outputId": "4f506da8-0158-4e07-9148-a69bace73815"
      },
      "execution_count": 53,
      "outputs": [
        {
          "output_type": "execute_result",
          "data": {
            "text/plain": [
              "('Isekai Maou To Shoukan Shoujo Dorei Majutsu',\n",
              " '49.1.Bahasa.Indonesia',\n",
              " 'https://komiku.org/isekai-maou-to-shoukan-shoujo-dorei-majutsu-chapter-49-1-bahasa-indonesia/')"
            ]
          },
          "metadata": {},
          "execution_count": 53
        }
      ]
    },
    {
      "cell_type": "code",
      "source": [
        "from tqdm import tqdm\n",
        "# Contoh penggunaan\n",
        "sitemap_url = \"https://komiku.org/wp-sitemap.xml\"\n",
        "jumlah1 = None\n",
        "jumlah2 = None\n",
        "urls = baca_sitemap(sitemap_url, limit=jumlah1)\n",
        "\n",
        "# Membuat dataframe kosong untuk menyimpan informasi\n",
        "df = pd.DataFrame(columns=[\"Judul\", \"Chapter\", \"Link\"])\n",
        "\n",
        "for url in urls:\n",
        "    print(url)\n",
        "    urls2 = baca_sitemap(url, limit=jumlah2)\n",
        "    for url2 in tqdm(urls2):\n",
        "      judul, chapter, link = baca_info_chapter(url2)\n",
        "      if judul is not None:\n",
        "          #print(f'- {url2}')\n",
        "          judul, chapter, link = baca_info_chapter(url2)\n",
        "          judul = judul.replace(\"Baca \", \"\")  # Menghilangkan 'Baca ' pada judul\n",
        "          judul = judul.replace(\"Bahasa \", \"\")  # Menghilangkan 'Baca ' pada judul\n",
        "          judul = judul.replace(\"Indonesia\", \"\")  # Menghilangkan 'Baca ' pada judul\n",
        "          chapter = chapter.replace(\".Bahasa.Indonesia\", \"\")  # Menghilangkan '.Bahasa.Indonesia' pada chapter\n",
        "          new_row = {\"Judul\": judul, \"Chapter\": chapter, \"Link\": link}\n",
        "          df = pd.concat([df, pd.DataFrame([new_row])], ignore_index=True)\n"
      ],
      "metadata": {
        "colab": {
          "base_uri": "https://localhost:8080/"
        },
        "id": "ik38QFW_K8Cy",
        "outputId": "9ac9a3b0-4894-4231-f343-67c87dbb03ab"
      },
      "execution_count": null,
      "outputs": [
        {
          "output_type": "stream",
          "name": "stdout",
          "text": [
            "https://komiku.org/wp-sitemap-posts-post-1.xml\n"
          ]
        },
        {
          "output_type": "stream",
          "name": "stderr",
          "text": [
            "100%|██████████| 2000/2000 [00:01<00:00, 1521.97it/s]\n"
          ]
        },
        {
          "output_type": "stream",
          "name": "stdout",
          "text": [
            "https://komiku.org/wp-sitemap-posts-post-2.xml\n"
          ]
        },
        {
          "output_type": "stream",
          "name": "stderr",
          "text": [
            "100%|██████████| 2000/2000 [00:01<00:00, 1363.05it/s]\n"
          ]
        },
        {
          "output_type": "stream",
          "name": "stdout",
          "text": [
            "https://komiku.org/wp-sitemap-posts-post-3.xml\n"
          ]
        },
        {
          "output_type": "stream",
          "name": "stderr",
          "text": [
            "100%|██████████| 2000/2000 [00:02<00:00, 909.56it/s]\n"
          ]
        },
        {
          "output_type": "stream",
          "name": "stdout",
          "text": [
            "https://komiku.org/wp-sitemap-posts-post-4.xml\n"
          ]
        },
        {
          "output_type": "stream",
          "name": "stderr",
          "text": [
            "100%|██████████| 2000/2000 [00:01<00:00, 1142.34it/s]\n"
          ]
        },
        {
          "output_type": "stream",
          "name": "stdout",
          "text": [
            "https://komiku.org/wp-sitemap-posts-post-5.xml\n"
          ]
        },
        {
          "output_type": "stream",
          "name": "stderr",
          "text": [
            "100%|██████████| 2000/2000 [00:01<00:00, 1071.30it/s]\n"
          ]
        },
        {
          "output_type": "stream",
          "name": "stdout",
          "text": [
            "https://komiku.org/wp-sitemap-posts-post-6.xml\n"
          ]
        },
        {
          "output_type": "stream",
          "name": "stderr",
          "text": [
            "100%|██████████| 2000/2000 [00:01<00:00, 1022.77it/s]\n"
          ]
        },
        {
          "output_type": "stream",
          "name": "stdout",
          "text": [
            "https://komiku.org/wp-sitemap-posts-post-7.xml\n"
          ]
        },
        {
          "output_type": "stream",
          "name": "stderr",
          "text": [
            "100%|██████████| 2000/2000 [00:02<00:00, 962.96it/s]\n"
          ]
        },
        {
          "output_type": "stream",
          "name": "stdout",
          "text": [
            "https://komiku.org/wp-sitemap-posts-post-8.xml\n"
          ]
        },
        {
          "output_type": "stream",
          "name": "stderr",
          "text": [
            "100%|██████████| 2000/2000 [00:02<00:00, 749.31it/s]\n"
          ]
        },
        {
          "output_type": "stream",
          "name": "stdout",
          "text": [
            "https://komiku.org/wp-sitemap-posts-post-9.xml\n"
          ]
        },
        {
          "output_type": "stream",
          "name": "stderr",
          "text": [
            "100%|██████████| 2000/2000 [00:02<00:00, 860.28it/s]\n"
          ]
        },
        {
          "output_type": "stream",
          "name": "stdout",
          "text": [
            "https://komiku.org/wp-sitemap-posts-post-10.xml\n"
          ]
        },
        {
          "output_type": "stream",
          "name": "stderr",
          "text": [
            "100%|██████████| 2000/2000 [00:02<00:00, 811.66it/s]\n"
          ]
        },
        {
          "output_type": "stream",
          "name": "stdout",
          "text": [
            "https://komiku.org/wp-sitemap-posts-post-11.xml\n"
          ]
        },
        {
          "output_type": "stream",
          "name": "stderr",
          "text": [
            "100%|██████████| 2000/2000 [00:02<00:00, 745.78it/s]\n"
          ]
        },
        {
          "output_type": "stream",
          "name": "stdout",
          "text": [
            "https://komiku.org/wp-sitemap-posts-post-12.xml\n"
          ]
        },
        {
          "output_type": "stream",
          "name": "stderr",
          "text": [
            "100%|██████████| 2000/2000 [00:03<00:00, 660.33it/s]\n"
          ]
        },
        {
          "output_type": "stream",
          "name": "stdout",
          "text": [
            "https://komiku.org/wp-sitemap-posts-post-13.xml\n"
          ]
        },
        {
          "output_type": "stream",
          "name": "stderr",
          "text": [
            "100%|██████████| 2000/2000 [00:02<00:00, 704.22it/s]\n"
          ]
        },
        {
          "output_type": "stream",
          "name": "stdout",
          "text": [
            "https://komiku.org/wp-sitemap-posts-post-14.xml\n"
          ]
        },
        {
          "output_type": "stream",
          "name": "stderr",
          "text": [
            "100%|██████████| 2000/2000 [00:02<00:00, 668.65it/s]\n"
          ]
        },
        {
          "output_type": "stream",
          "name": "stdout",
          "text": [
            "https://komiku.org/wp-sitemap-posts-post-15.xml\n"
          ]
        },
        {
          "output_type": "stream",
          "name": "stderr",
          "text": [
            "100%|██████████| 2000/2000 [00:03<00:00, 537.06it/s]\n"
          ]
        },
        {
          "output_type": "stream",
          "name": "stdout",
          "text": [
            "https://komiku.org/wp-sitemap-posts-post-16.xml\n"
          ]
        },
        {
          "output_type": "stream",
          "name": "stderr",
          "text": [
            "100%|██████████| 2000/2000 [00:03<00:00, 621.55it/s]\n"
          ]
        },
        {
          "output_type": "stream",
          "name": "stdout",
          "text": [
            "https://komiku.org/wp-sitemap-posts-post-17.xml\n"
          ]
        },
        {
          "output_type": "stream",
          "name": "stderr",
          "text": [
            "100%|██████████| 2000/2000 [00:03<00:00, 593.49it/s]\n"
          ]
        },
        {
          "output_type": "stream",
          "name": "stdout",
          "text": [
            "https://komiku.org/wp-sitemap-posts-post-18.xml\n"
          ]
        },
        {
          "output_type": "stream",
          "name": "stderr",
          "text": [
            "100%|██████████| 2000/2000 [00:04<00:00, 474.09it/s]\n"
          ]
        },
        {
          "output_type": "stream",
          "name": "stdout",
          "text": [
            "https://komiku.org/wp-sitemap-posts-post-19.xml\n"
          ]
        },
        {
          "output_type": "stream",
          "name": "stderr",
          "text": [
            "100%|██████████| 2000/2000 [00:03<00:00, 542.06it/s]\n"
          ]
        },
        {
          "output_type": "stream",
          "name": "stdout",
          "text": [
            "https://komiku.org/wp-sitemap-posts-post-20.xml\n"
          ]
        },
        {
          "output_type": "stream",
          "name": "stderr",
          "text": [
            "100%|██████████| 2000/2000 [00:04<00:00, 494.03it/s]\n"
          ]
        },
        {
          "output_type": "stream",
          "name": "stdout",
          "text": [
            "https://komiku.org/wp-sitemap-posts-post-21.xml\n"
          ]
        },
        {
          "output_type": "stream",
          "name": "stderr",
          "text": [
            "100%|██████████| 2000/2000 [00:04<00:00, 452.00it/s]\n"
          ]
        },
        {
          "output_type": "stream",
          "name": "stdout",
          "text": [
            "https://komiku.org/wp-sitemap-posts-post-22.xml\n"
          ]
        },
        {
          "output_type": "stream",
          "name": "stderr",
          "text": [
            "100%|██████████| 2000/2000 [00:04<00:00, 473.45it/s]\n"
          ]
        },
        {
          "output_type": "stream",
          "name": "stdout",
          "text": [
            "https://komiku.org/wp-sitemap-posts-post-23.xml\n"
          ]
        },
        {
          "output_type": "stream",
          "name": "stderr",
          "text": [
            "100%|██████████| 2000/2000 [00:05<00:00, 351.28it/s]\n"
          ]
        },
        {
          "output_type": "stream",
          "name": "stdout",
          "text": [
            "https://komiku.org/wp-sitemap-posts-post-24.xml\n"
          ]
        },
        {
          "output_type": "stream",
          "name": "stderr",
          "text": [
            "100%|██████████| 2000/2000 [00:04<00:00, 403.19it/s]\n"
          ]
        },
        {
          "output_type": "stream",
          "name": "stdout",
          "text": [
            "https://komiku.org/wp-sitemap-posts-post-25.xml\n"
          ]
        },
        {
          "output_type": "stream",
          "name": "stderr",
          "text": [
            "100%|██████████| 2000/2000 [00:05<00:00, 336.74it/s]\n"
          ]
        },
        {
          "output_type": "stream",
          "name": "stdout",
          "text": [
            "https://komiku.org/wp-sitemap-posts-post-26.xml\n"
          ]
        },
        {
          "output_type": "stream",
          "name": "stderr",
          "text": [
            "100%|██████████| 2000/2000 [00:05<00:00, 380.61it/s]\n"
          ]
        },
        {
          "output_type": "stream",
          "name": "stdout",
          "text": [
            "https://komiku.org/wp-sitemap-posts-post-27.xml\n"
          ]
        },
        {
          "output_type": "stream",
          "name": "stderr",
          "text": [
            "100%|██████████| 2000/2000 [00:07<00:00, 272.83it/s]\n"
          ]
        },
        {
          "output_type": "stream",
          "name": "stdout",
          "text": [
            "https://komiku.org/wp-sitemap-posts-post-28.xml\n"
          ]
        },
        {
          "output_type": "stream",
          "name": "stderr",
          "text": [
            "100%|██████████| 2000/2000 [00:08<00:00, 230.94it/s]\n"
          ]
        },
        {
          "output_type": "stream",
          "name": "stdout",
          "text": [
            "https://komiku.org/wp-sitemap-posts-post-29.xml\n"
          ]
        },
        {
          "output_type": "stream",
          "name": "stderr",
          "text": [
            "100%|██████████| 2000/2000 [00:07<00:00, 252.48it/s]\n"
          ]
        },
        {
          "output_type": "stream",
          "name": "stdout",
          "text": [
            "https://komiku.org/wp-sitemap-posts-post-30.xml\n"
          ]
        },
        {
          "output_type": "stream",
          "name": "stderr",
          "text": [
            "100%|██████████| 2000/2000 [00:07<00:00, 253.83it/s]\n"
          ]
        },
        {
          "output_type": "stream",
          "name": "stdout",
          "text": [
            "https://komiku.org/wp-sitemap-posts-post-31.xml\n"
          ]
        },
        {
          "output_type": "stream",
          "name": "stderr",
          "text": [
            "100%|██████████| 2000/2000 [00:09<00:00, 211.97it/s]\n"
          ]
        },
        {
          "output_type": "stream",
          "name": "stdout",
          "text": [
            "https://komiku.org/wp-sitemap-posts-post-32.xml\n"
          ]
        },
        {
          "output_type": "stream",
          "name": "stderr",
          "text": [
            "100%|██████████| 2000/2000 [00:09<00:00, 210.16it/s]\n"
          ]
        },
        {
          "output_type": "stream",
          "name": "stdout",
          "text": [
            "https://komiku.org/wp-sitemap-posts-post-33.xml\n"
          ]
        },
        {
          "output_type": "stream",
          "name": "stderr",
          "text": [
            "100%|██████████| 2000/2000 [00:09<00:00, 204.59it/s]\n"
          ]
        },
        {
          "output_type": "stream",
          "name": "stdout",
          "text": [
            "https://komiku.org/wp-sitemap-posts-post-34.xml\n"
          ]
        },
        {
          "output_type": "stream",
          "name": "stderr",
          "text": [
            "100%|██████████| 2000/2000 [00:10<00:00, 182.72it/s]\n"
          ]
        },
        {
          "output_type": "stream",
          "name": "stdout",
          "text": [
            "https://komiku.org/wp-sitemap-posts-post-35.xml\n"
          ]
        },
        {
          "output_type": "stream",
          "name": "stderr",
          "text": [
            "100%|██████████| 2000/2000 [00:11<00:00, 176.28it/s]\n"
          ]
        },
        {
          "output_type": "stream",
          "name": "stdout",
          "text": [
            "https://komiku.org/wp-sitemap-posts-post-36.xml\n"
          ]
        },
        {
          "output_type": "stream",
          "name": "stderr",
          "text": [
            "100%|██████████| 2000/2000 [00:09<00:00, 220.30it/s]\n"
          ]
        },
        {
          "output_type": "stream",
          "name": "stdout",
          "text": [
            "https://komiku.org/wp-sitemap-posts-post-37.xml\n"
          ]
        },
        {
          "output_type": "stream",
          "name": "stderr",
          "text": [
            "100%|██████████| 2000/2000 [00:08<00:00, 230.44it/s]\n"
          ]
        },
        {
          "output_type": "stream",
          "name": "stdout",
          "text": [
            "https://komiku.org/wp-sitemap-posts-post-38.xml\n"
          ]
        },
        {
          "output_type": "stream",
          "name": "stderr",
          "text": [
            "100%|██████████| 2000/2000 [00:09<00:00, 212.92it/s]\n"
          ]
        },
        {
          "output_type": "stream",
          "name": "stdout",
          "text": [
            "https://komiku.org/wp-sitemap-posts-post-39.xml\n"
          ]
        },
        {
          "output_type": "stream",
          "name": "stderr",
          "text": [
            "100%|██████████| 2000/2000 [00:09<00:00, 216.62it/s]\n"
          ]
        },
        {
          "output_type": "stream",
          "name": "stdout",
          "text": [
            "https://komiku.org/wp-sitemap-posts-post-40.xml\n"
          ]
        },
        {
          "output_type": "stream",
          "name": "stderr",
          "text": [
            "100%|██████████| 2000/2000 [00:10<00:00, 195.84it/s]\n"
          ]
        },
        {
          "output_type": "stream",
          "name": "stdout",
          "text": [
            "https://komiku.org/wp-sitemap-posts-post-41.xml\n"
          ]
        },
        {
          "output_type": "stream",
          "name": "stderr",
          "text": [
            "100%|██████████| 2000/2000 [00:11<00:00, 177.21it/s]\n"
          ]
        },
        {
          "output_type": "stream",
          "name": "stdout",
          "text": [
            "https://komiku.org/wp-sitemap-posts-post-42.xml\n"
          ]
        },
        {
          "output_type": "stream",
          "name": "stderr",
          "text": [
            "100%|██████████| 2000/2000 [00:11<00:00, 177.04it/s]\n"
          ]
        },
        {
          "output_type": "stream",
          "name": "stdout",
          "text": [
            "https://komiku.org/wp-sitemap-posts-post-43.xml\n"
          ]
        },
        {
          "output_type": "stream",
          "name": "stderr",
          "text": [
            "100%|██████████| 2000/2000 [00:11<00:00, 169.55it/s]\n"
          ]
        },
        {
          "output_type": "stream",
          "name": "stdout",
          "text": [
            "https://komiku.org/wp-sitemap-posts-post-44.xml\n"
          ]
        },
        {
          "output_type": "stream",
          "name": "stderr",
          "text": [
            "100%|██████████| 2000/2000 [00:11<00:00, 174.41it/s]\n"
          ]
        },
        {
          "output_type": "stream",
          "name": "stdout",
          "text": [
            "https://komiku.org/wp-sitemap-posts-post-45.xml\n"
          ]
        },
        {
          "output_type": "stream",
          "name": "stderr",
          "text": [
            "100%|██████████| 2000/2000 [00:12<00:00, 164.62it/s]\n"
          ]
        },
        {
          "output_type": "stream",
          "name": "stdout",
          "text": [
            "https://komiku.org/wp-sitemap-posts-post-46.xml\n"
          ]
        },
        {
          "output_type": "stream",
          "name": "stderr",
          "text": [
            "100%|██████████| 2000/2000 [00:12<00:00, 158.68it/s]\n"
          ]
        },
        {
          "output_type": "stream",
          "name": "stdout",
          "text": [
            "https://komiku.org/wp-sitemap-posts-post-47.xml\n"
          ]
        },
        {
          "output_type": "stream",
          "name": "stderr",
          "text": [
            "100%|██████████| 2000/2000 [00:13<00:00, 150.03it/s]\n"
          ]
        },
        {
          "output_type": "stream",
          "name": "stdout",
          "text": [
            "https://komiku.org/wp-sitemap-posts-post-48.xml\n"
          ]
        },
        {
          "output_type": "stream",
          "name": "stderr",
          "text": [
            "100%|██████████| 2000/2000 [00:13<00:00, 146.28it/s]\n"
          ]
        },
        {
          "output_type": "stream",
          "name": "stdout",
          "text": [
            "https://komiku.org/wp-sitemap-posts-post-49.xml\n"
          ]
        },
        {
          "output_type": "stream",
          "name": "stderr",
          "text": [
            "100%|██████████| 2000/2000 [00:16<00:00, 124.16it/s]\n"
          ]
        },
        {
          "output_type": "stream",
          "name": "stdout",
          "text": [
            "https://komiku.org/wp-sitemap-posts-post-50.xml\n"
          ]
        },
        {
          "output_type": "stream",
          "name": "stderr",
          "text": [
            "100%|██████████| 2000/2000 [00:15<00:00, 125.55it/s]\n"
          ]
        },
        {
          "output_type": "stream",
          "name": "stdout",
          "text": [
            "https://komiku.org/wp-sitemap-posts-post-51.xml\n"
          ]
        },
        {
          "output_type": "stream",
          "name": "stderr",
          "text": [
            "100%|██████████| 2000/2000 [00:16<00:00, 118.54it/s]\n"
          ]
        },
        {
          "output_type": "stream",
          "name": "stdout",
          "text": [
            "https://komiku.org/wp-sitemap-posts-post-52.xml\n"
          ]
        },
        {
          "output_type": "stream",
          "name": "stderr",
          "text": [
            "100%|██████████| 2000/2000 [00:16<00:00, 120.86it/s]\n"
          ]
        },
        {
          "output_type": "stream",
          "name": "stdout",
          "text": [
            "https://komiku.org/wp-sitemap-posts-post-53.xml\n"
          ]
        },
        {
          "output_type": "stream",
          "name": "stderr",
          "text": [
            "100%|██████████| 2000/2000 [00:17<00:00, 115.19it/s]\n"
          ]
        },
        {
          "output_type": "stream",
          "name": "stdout",
          "text": [
            "https://komiku.org/wp-sitemap-posts-post-54.xml\n"
          ]
        },
        {
          "output_type": "stream",
          "name": "stderr",
          "text": [
            "100%|██████████| 2000/2000 [00:16<00:00, 118.50it/s]\n"
          ]
        },
        {
          "output_type": "stream",
          "name": "stdout",
          "text": [
            "https://komiku.org/wp-sitemap-posts-post-55.xml\n"
          ]
        },
        {
          "output_type": "stream",
          "name": "stderr",
          "text": [
            "100%|██████████| 2000/2000 [00:18<00:00, 106.01it/s]\n"
          ]
        },
        {
          "output_type": "stream",
          "name": "stdout",
          "text": [
            "https://komiku.org/wp-sitemap-posts-post-56.xml\n"
          ]
        },
        {
          "output_type": "stream",
          "name": "stderr",
          "text": [
            "100%|██████████| 2000/2000 [00:18<00:00, 105.80it/s]\n"
          ]
        },
        {
          "output_type": "stream",
          "name": "stdout",
          "text": [
            "https://komiku.org/wp-sitemap-posts-post-57.xml\n"
          ]
        },
        {
          "output_type": "stream",
          "name": "stderr",
          "text": [
            "100%|██████████| 2000/2000 [00:18<00:00, 106.19it/s]\n"
          ]
        },
        {
          "output_type": "stream",
          "name": "stdout",
          "text": [
            "https://komiku.org/wp-sitemap-posts-post-58.xml\n"
          ]
        },
        {
          "output_type": "stream",
          "name": "stderr",
          "text": [
            "100%|██████████| 2000/2000 [00:20<00:00, 99.83it/s] \n"
          ]
        },
        {
          "output_type": "stream",
          "name": "stdout",
          "text": [
            "https://komiku.org/wp-sitemap-posts-post-59.xml\n"
          ]
        },
        {
          "output_type": "stream",
          "name": "stderr",
          "text": [
            "100%|██████████| 2000/2000 [00:20<00:00, 96.45it/s] \n"
          ]
        },
        {
          "output_type": "stream",
          "name": "stdout",
          "text": [
            "https://komiku.org/wp-sitemap-posts-post-60.xml\n"
          ]
        },
        {
          "output_type": "stream",
          "name": "stderr",
          "text": [
            "100%|██████████| 2000/2000 [00:20<00:00, 96.94it/s]\n"
          ]
        },
        {
          "output_type": "stream",
          "name": "stdout",
          "text": [
            "https://komiku.org/wp-sitemap-posts-post-61.xml\n"
          ]
        },
        {
          "output_type": "stream",
          "name": "stderr",
          "text": [
            "100%|██████████| 2000/2000 [00:20<00:00, 96.70it/s]\n"
          ]
        },
        {
          "output_type": "stream",
          "name": "stdout",
          "text": [
            "https://komiku.org/wp-sitemap-posts-post-62.xml\n"
          ]
        },
        {
          "output_type": "stream",
          "name": "stderr",
          "text": [
            "100%|██████████| 2000/2000 [00:21<00:00, 95.19it/s] \n"
          ]
        },
        {
          "output_type": "stream",
          "name": "stdout",
          "text": [
            "https://komiku.org/wp-sitemap-posts-post-63.xml\n"
          ]
        },
        {
          "output_type": "stream",
          "name": "stderr",
          "text": [
            "100%|██████████| 2000/2000 [00:21<00:00, 92.28it/s]\n"
          ]
        },
        {
          "output_type": "stream",
          "name": "stdout",
          "text": [
            "https://komiku.org/wp-sitemap-posts-post-64.xml\n"
          ]
        },
        {
          "output_type": "stream",
          "name": "stderr",
          "text": [
            "100%|██████████| 2000/2000 [00:21<00:00, 92.34it/s]\n"
          ]
        },
        {
          "output_type": "stream",
          "name": "stdout",
          "text": [
            "https://komiku.org/wp-sitemap-posts-post-65.xml\n"
          ]
        },
        {
          "output_type": "stream",
          "name": "stderr",
          "text": [
            "100%|██████████| 2000/2000 [00:22<00:00, 89.45it/s]\n"
          ]
        },
        {
          "output_type": "stream",
          "name": "stdout",
          "text": [
            "https://komiku.org/wp-sitemap-posts-post-66.xml\n"
          ]
        },
        {
          "output_type": "stream",
          "name": "stderr",
          "text": [
            "100%|██████████| 2000/2000 [00:22<00:00, 89.33it/s]\n"
          ]
        },
        {
          "output_type": "stream",
          "name": "stdout",
          "text": [
            "https://komiku.org/wp-sitemap-posts-post-67.xml\n"
          ]
        },
        {
          "output_type": "stream",
          "name": "stderr",
          "text": [
            "100%|██████████| 2000/2000 [00:22<00:00, 88.44it/s]\n"
          ]
        },
        {
          "output_type": "stream",
          "name": "stdout",
          "text": [
            "https://komiku.org/wp-sitemap-posts-post-68.xml\n"
          ]
        },
        {
          "output_type": "stream",
          "name": "stderr",
          "text": [
            "100%|██████████| 2000/2000 [00:23<00:00, 83.89it/s]\n"
          ]
        },
        {
          "output_type": "stream",
          "name": "stdout",
          "text": [
            "https://komiku.org/wp-sitemap-posts-post-69.xml\n"
          ]
        },
        {
          "output_type": "stream",
          "name": "stderr",
          "text": [
            "100%|██████████| 2000/2000 [00:23<00:00, 84.06it/s]\n"
          ]
        },
        {
          "output_type": "stream",
          "name": "stdout",
          "text": [
            "https://komiku.org/wp-sitemap-posts-post-70.xml\n"
          ]
        },
        {
          "output_type": "stream",
          "name": "stderr",
          "text": [
            "100%|██████████| 2000/2000 [00:23<00:00, 84.86it/s]\n"
          ]
        },
        {
          "output_type": "stream",
          "name": "stdout",
          "text": [
            "https://komiku.org/wp-sitemap-posts-post-71.xml\n"
          ]
        },
        {
          "output_type": "stream",
          "name": "stderr",
          "text": [
            "100%|██████████| 2000/2000 [00:24<00:00, 83.28it/s]\n"
          ]
        },
        {
          "output_type": "stream",
          "name": "stdout",
          "text": [
            "https://komiku.org/wp-sitemap-posts-post-72.xml\n"
          ]
        },
        {
          "output_type": "stream",
          "name": "stderr",
          "text": [
            "100%|██████████| 2000/2000 [00:24<00:00, 80.73it/s]\n"
          ]
        },
        {
          "output_type": "stream",
          "name": "stdout",
          "text": [
            "https://komiku.org/wp-sitemap-posts-post-73.xml\n"
          ]
        },
        {
          "output_type": "stream",
          "name": "stderr",
          "text": [
            "100%|██████████| 2000/2000 [00:24<00:00, 82.41it/s]\n"
          ]
        },
        {
          "output_type": "stream",
          "name": "stdout",
          "text": [
            "https://komiku.org/wp-sitemap-posts-post-74.xml\n"
          ]
        },
        {
          "output_type": "stream",
          "name": "stderr",
          "text": [
            "100%|██████████| 2000/2000 [00:24<00:00, 83.07it/s]\n"
          ]
        },
        {
          "output_type": "stream",
          "name": "stdout",
          "text": [
            "https://komiku.org/wp-sitemap-posts-post-75.xml\n"
          ]
        },
        {
          "output_type": "stream",
          "name": "stderr",
          "text": [
            " 64%|██████▎   | 1270/2000 [00:15<00:07, 96.07it/s]"
          ]
        }
      ]
    },
    {
      "cell_type": "code",
      "source": [
        "# Membuat dataframe kosong untuk menyimpan informasi\n",
        "#df2 = pd.DataFrame(columns=[\"Judul\", \"Chapter\", \"Link\"])\n",
        "urls2 = baca_sitemap(\"https://komiku.org/wp-sitemap-posts-post-48.xml\")\n",
        "for url2 in tqdm(urls2):\n",
        "    judul, chapter, link = baca_info_chapter(url2)\n",
        "    print(judul)\n",
        "    if judul is not None:\n",
        "      #print(f'- {url2}')\n",
        "      judul, chapter, link = baca_info_chapter(url2)\n",
        "      judul = judul.replace(\"Baca \", \"\")  # Menghilangkan 'Baca ' pada judul\n",
        "      judul = judul.replace(\"Bahasa \", \"\")  # Menghilangkan 'Baca ' pada judul\n",
        "      judul = judul.replace(\"Indonesia\", \"\")  # Menghilangkan 'Baca ' pada judul\n",
        "      chapter = chapter.replace(\".Bahasa.Indonesia\", \"\")  # Menghilangkan '.Bahasa.Indonesia' pada chapter\n",
        "      #new_row = {\"Judul\": judul, \"Chapter\": chapter, \"Link\": link}\n",
        "      #df2 = pd.concat([df, pd.DataFrame([new_row])], ignore_index=True)"
      ],
      "metadata": {
        "colab": {
          "base_uri": "https://localhost:8080/"
        },
        "id": "aujaVYE9Ytze",
        "outputId": "a3a44492-93db-41ae-8ac8-eb0e58af63c1"
      },
      "execution_count": 114,
      "outputs": [
        {
          "output_type": "stream",
          "name": "stderr",
          "text": [
            "  0%|          | 10/2000 [00:00<00:21, 92.06it/s]"
          ]
        },
        {
          "output_type": "stream",
          "name": "stdout",
          "text": [
            "I Am An Invincible Genius \n",
            "Reborn Doctor \n",
            "Reborn Doctor \n",
            "The Duke Of Death And His Black Maid \n",
            "Bokutachi Wa Hanshoku Wo Yameta \n",
            "Bokutachi Wa Hanshoku Wo Yameta \n",
            "Bokutachi Wa Hanshoku Wo Yameta \n",
            "Bokutachi Wa Hanshoku Wo Yameta \n",
            "Bokutachi Wa Hanshoku Wo Yameta \n",
            "Bokutachi Wa Hanshoku Wo Yameta \n",
            "The Evil Girl Is The Emperor \n",
            "The Evil Girl Is The Emperor \n",
            "The Evil Girl Is The Emperor \n",
            "The Evil Girl Is The Emperor \n",
            "The Evil Girl Is The Emperor \n",
            "The Evil Girl Is The Emperor \n",
            "The Evil Girl Is The Emperor \n",
            "The Evil Girl Is The Emperor \n",
            "The Evil Girl Is The Emperor \n"
          ]
        },
        {
          "output_type": "stream",
          "name": "stderr",
          "text": [
            "  2%|▏         | 30/2000 [00:00<00:20, 95.11it/s]"
          ]
        },
        {
          "output_type": "stream",
          "name": "stdout",
          "text": [
            "The Evil Girl Is The Emperor \n",
            "The Evil Girl Is The Emperor \n",
            "The Evil Girl Is The Emperor \n",
            "Monk From The Future \n",
            "Hanazono Twins \n",
            "Hanazono Twins \n",
            "Tokyo%E5%8D%8Drevengers \n",
            "Return The Demon Goddess \n",
            "Heaven Defying Sword \n",
            "Heaven Defying Sword \n",
            "Legend Of Phoenix \n",
            "Sono Monban Saikyou Nitsuki Tsuihou Sareta Bougyo Ryoku 9999 No Senshi Outo No Monban Toshite Musou Suru \n",
            "Trigger \n",
            "Trigger \n",
            "Micah The Blade \n",
            "My Beautiful Time With You \n",
            "My Beautiful Time With You \n",
            "My Beautiful Time With You \n",
            "My Beautiful Time With You \n",
            "My Beautiful Time With You \n",
            "My Beautiful Time With You \n"
          ]
        },
        {
          "output_type": "stream",
          "name": "stderr",
          "text": [
            "  2%|▎         | 50/2000 [00:00<00:20, 96.18it/s]"
          ]
        },
        {
          "output_type": "stream",
          "name": "stdout",
          "text": [
            "My Beautiful Time With You \n",
            "My Beautiful Time With You \n",
            "My Beautiful Time With You \n",
            "My Beautiful Time With You \n",
            "Get Life \n",
            "Get Life \n",
            "Spare Me Great Lord \n",
            "Versatile Mage \n",
            "Versatile Mage \n",
            "Wuxian Shitu Yu Shier Zhan Ji Infinite Apostles And Twelve War Girls \n",
            "Rettou Me No Tensei Majutsushi Shiitage Rareta Moto Yuusha Wa Mirai No Sekai O Yoyuu De Ikinuku \n",
            "Against The Gods \n",
            "Kemono Jihen \n",
            "Kemono Jihen \n",
            "Kemono Jihen \n",
            "Kemono Jihen \n",
            "Kemono Jihen \n",
            "Kemono Jihen \n",
            "Kemono Jihen \n",
            "Kemono Jihen \n"
          ]
        },
        {
          "output_type": "stream",
          "name": "stderr",
          "text": [
            "  4%|▎         | 71/2000 [00:00<00:19, 98.50it/s]"
          ]
        },
        {
          "output_type": "stream",
          "name": "stdout",
          "text": [
            "Kemono Jihen \n",
            "Tokyo%E5%8D%8Drevengers \n",
            "The Rebirth Of The Demon God \n",
            "The Blood Princess And The Knight \n",
            "The Blood Princess And The Knight \n",
            "The Blood Princess And The Knight \n",
            "The Blood Princess And The Knight \n",
            "The Blood Princess And The Knight \n",
            "Mission Yozakura Family \n",
            "My Wife Is Cold Hearted \n",
            "Assassins Pride \n",
            "Assassins Pride \n",
            "Assassins Pride \n",
            "Assassins Pride \n",
            "Assassins Pride \n",
            "Assassins Pride \n",
            "Assassins Pride \n",
            "Assassins Pride \n",
            "Assassins Pride \n",
            "Assassins Pride \n",
            "Assassins Pride \n",
            "Assassins Pride \n"
          ]
        },
        {
          "output_type": "stream",
          "name": "stderr",
          "text": [
            "  5%|▍         | 94/2000 [00:00<00:18, 104.74it/s]"
          ]
        },
        {
          "output_type": "stream",
          "name": "stdout",
          "text": [
            "Assassins Pride \n",
            "Assassins Pride \n",
            "Assassins Pride \n",
            "Assassins Pride \n",
            "Assassins Pride \n",
            "Assassins Pride \n",
            "Assassins Pride \n",
            "Assassins Pride \n",
            "Assassins Pride \n",
            "Assassins Pride \n",
            "Assassins Pride \n",
            "Assassins Pride \n",
            "Assassins Pride \n",
            "Assassins Pride \n",
            "Assassins Pride \n",
            "Assassins Pride \n",
            "Assassins Pride \n",
            "Assassins Pride \n",
            "Assassins Pride \n",
            "Assassins Pride \n",
            "Black Abyss At Dawn \n",
            "Martial Master \n",
            "Martial Master \n"
          ]
        },
        {
          "output_type": "stream",
          "name": "stderr",
          "text": [
            "  6%|▋         | 127/2000 [00:01<00:18, 102.25it/s]"
          ]
        },
        {
          "output_type": "stream",
          "name": "stdout",
          "text": [
            "The Last Human \n",
            "Rebirth Become A Dog \n",
            "Komi San Wa Komyushou Desu \n",
            "The Wife Contract And My Daughters Nanny \n",
            "The Wife Contract And My Daughters Nanny \n",
            "City Of Heaven Time Stamp \n",
            "Dungeon Reset \n",
            "Martial Peak \n",
            "Martial Peak \n",
            "Martial Peak \n",
            "Martial Peak \n",
            "Martial God Asura \n",
            "God Of Martial Arts \n",
            "Isekai Yurutto Survival Seikatsu \n",
            "The Nine Heaven Of Martial Arts \n",
            "Strongest Anti M E T A \n",
            "Konjiki No Moji Tsukai \n",
            "Night Bookstore \n",
            "Trigger \n",
            "Moriking \n",
            "My Death Flags Show No Sign Of Ending \n",
            "Koi To Uso \n",
            "The Senior And Junior Broke Up Three Months Ago \n"
          ]
        },
        {
          "output_type": "stream",
          "name": "stderr",
          "text": [
            "  8%|▊         | 150/2000 [00:01<00:17, 105.36it/s]"
          ]
        },
        {
          "output_type": "stream",
          "name": "stdout",
          "text": [
            "The Senior And Junior Broke Up Three Months Ago \n",
            "The Senior And Junior Broke Up Three Months Ago \n",
            "The Senior And Junior Broke Up Three Months Ago \n",
            "The Senior And Junior Broke Up Three Months Ago \n",
            "The Senior And Junior Broke Up Three Months Ago \n",
            "The Senior And Junior Broke Up Three Months Ago \n",
            "The Senior And Junior Broke Up Three Months Ago \n",
            "The Senior And Junior Broke Up Three Months Ago \n",
            "The Senior And Junior Broke Up Three Months Ago \n",
            "The Senior And Junior Broke Up Three Months Ago \n",
            "The Senior And Junior Broke Up Three Months Ago \n",
            "The Senior And Junior Broke Up Three Months Ago \n",
            "The Senior And Junior Broke Up Three Months Ago \n",
            "Sekai Saikyou No Shinjuu Tsukai \n",
            "Sekai Saikyou No Shinjuu Tsukai \n",
            "Sekai Saikyou No Shinjuu Tsukai \n",
            "Tensei Shitara Dai Nana Ouji Dattanode \n",
            "I Live In Another World \n",
            "I Live In Another World \n",
            "A Brick To Break Into Other World \n",
            "A Brick To Break Into Other World \n",
            "A Brick To Break Into Other World \n"
          ]
        },
        {
          "output_type": "stream",
          "name": "stderr",
          "text": [
            "  9%|▊         | 172/2000 [00:01<00:17, 102.40it/s]"
          ]
        },
        {
          "output_type": "stream",
          "name": "stdout",
          "text": [
            "A Brick To Break Into Other World \n",
            "Kyoukai Meikyuu To Ikai No Majutsushi \n",
            "Kenja No Mago \n",
            "Strongest Anti M E T A \n",
            "Please Go Home Akutsu San \n",
            "That Inferior Knight Actually Level 999 \n",
            "The Strongest Manager In History \n",
            "Eden Zero \n",
            "Wuxian Shitu Yu Shier Zhan Ji Infinite Apostles And Twelve War Girls \n",
            "Worn And Torn Newbie \n",
            "The Cuckoos Fiancee \n",
            "Dice \n",
            "Return Of Xiandi \n",
            "Return Of Xiandi \n",
            "The Wife Contract And My Daughters Nanny \n",
            "The Wife Contract And My Daughters Nanny \n",
            "Invincible Sword Domain \n",
            "Kanojo Okarishimasu \n",
            "Otome Game Sekai Wa Mob Ni Kibishii Sekai Desu \n",
            "Night Bookstore \n",
            "Against The Gods \n",
            "The Girl With A Kansai Accent And The Pure Boy \n",
            "Chikan Saresou Ni Natteiru S Kyuu Bishoujo Wo Tasuketara Tonari No Seki No Osanajimi Datta \n"
          ]
        },
        {
          "output_type": "stream",
          "name": "stderr",
          "text": [
            " 10%|▉         | 194/2000 [00:01<00:17, 102.92it/s]"
          ]
        },
        {
          "output_type": "stream",
          "name": "stdout",
          "text": [
            "Doomed To Be A King \n",
            "Battle Frenzy \n",
            "Ceos Sudden Proposal \n",
            "Ceos Sudden Proposal \n",
            "Demi Gods And Semi Devils \n",
            "Demon Spirit Seed Manual \n",
            "Demonic Housekeeper \n",
            "The Senior And Junior Broke Up Three Months Ago \n",
            "Invincible Sword Domain \n",
            "I Am The Sorcerer King \n",
            "Koi Ka Mahou Ka Wakaranai \n",
            "Koi Ka Mahou Ka Wakaranai \n",
            "Koi Ka Mahou Ka Wakaranai \n",
            "Boku No Kanojo Sensei \n",
            "Boku No Kanojo Sensei \n",
            "Boku No Kanojo Sensei \n",
            "Boku No Kanojo Sensei \n",
            "Boku No Kanojo Sensei \n",
            "Boku No Kanojo Sensei \n",
            "Boku No Kanojo Sensei \n",
            "Boku No Kanojo Sensei \n",
            "Boku No Kanojo Sensei \n"
          ]
        },
        {
          "output_type": "stream",
          "name": "stderr",
          "text": [
            "\r 10%|█         | 205/2000 [00:02<00:17, 101.45it/s]"
          ]
        },
        {
          "output_type": "stream",
          "name": "stdout",
          "text": [
            "Boku No Kanojo Sensei \n",
            "Boku No Kanojo Sensei \n",
            "Boku No Kanojo Sensei \n",
            "Boku No Kanojo Sensei \n",
            "Tokyo%E5%8D%8Drevengers \n",
            "Doomed To Be A King \n",
            "Heaven Defying Sword \n",
            "Micah The Blade \n",
            "My Beautiful Time With You \n",
            "My Beautiful Time With You \n",
            "My Beautiful Time With You \n",
            "My Beautiful Time With You \n",
            "My Beautiful Time With You \n",
            "Fff Class Trashero \n",
            "Apotheosis \n",
            "Super Keyboard Man \n",
            "Spare Me Great Lord \n",
            "Honzuki No Gekokujou Part 2 \n",
            "Rebirth Of The Earth Immortal Venerable \n",
            "Gleipnir \n",
            "Tonikaku Kawaii \n"
          ]
        },
        {
          "output_type": "stream",
          "name": "stderr",
          "text": [
            " 11%|█▏        | 227/2000 [00:02<00:17, 99.90it/s] "
          ]
        },
        {
          "output_type": "stream",
          "name": "stdout",
          "text": [
            "Skeleton Soldier Couldnt Protect The Dungeon \n",
            "Versatile Mage \n",
            "Versatile Mage \n",
            "The Blood Princess And The Knight \n",
            "The Blood Princess And The Knight \n",
            "The Blood Princess And The Knight \n",
            "The Blood Princess And The Knight \n",
            "The Blood Princess And The Knight \n",
            "The Rebirth Of The Demon God \n",
            "Star Martial God Technique \n",
            "Martial Peak \n",
            "Martial Peak \n",
            "Realist Maou Niyoru Seiiki Naki Isekai Kaikaku \n",
            "Take Your Mommy Home \n",
            "Take Your Mommy Home \n",
            "Rebirth Of The Urban Immortal Cultivator \n",
            "I Am Daxianzun \n",
            "I Am Daxianzun \n",
            "I Am Daxianzun \n",
            "Saikyou No Shuzoku Ga Ningen Datta Ken \n",
            "The Demon King Who Lost His Job \n",
            "Zettai Ni Hatarakitakunai Dungeon Master Ga Damin Wo Musaboru Made \n",
            "Zettai Ni Hatarakitakunai Dungeon Master Ga Damin Wo Musaboru Made \n"
          ]
        },
        {
          "output_type": "stream",
          "name": "stderr",
          "text": [
            " 13%|█▎        | 264/2000 [00:02<00:15, 110.12it/s]"
          ]
        },
        {
          "output_type": "stream",
          "name": "stdout",
          "text": [
            "Fire Brigade Of Flame \n",
            "Night Bookstore \n",
            "Boruto \n",
            "Mono No Kemonogurashi \n",
            "Martial God Asura \n",
            "A Breakthrough Brought By Forbidden Master And Disciple \n",
            "Kuro No Shoukanshi \n",
            "Hazure Waku No Joutai Ijou Skill De Saikyou Ni Natta Ore Ga Subete Wo Juurin Suru Made \n",
            "Skeleton Soldier Couldnt Protect The Dungeon \n",
            "Wuxian Shitu Yu Shier Zhan Ji Infinite Apostles And Twelve War Girls \n",
            "Gaikotsu Kishi Sama Tadaima Isekai E Odekakechuu \n",
            "My Death Flags Show No Sign Of Ending \n",
            "Reawaken Man \n",
            "Kaiko Sareta Ankoku Heishi 30 Dai No Slow Na Second Life \n",
            "The Strongest Golden Kidney System \n",
            "Please Go Home Akutsu San \n",
            "Live Dungeon \n",
            "Highest Level Returnee Max Level Returner \n",
            "Makenshi No Maken Niyoru Maken No Tame No Harem Life \n",
            "Zui Qiang Shen \n",
            "Zui Qiang Shen Wang \n",
            "Dragon Throne \n",
            "Dragon Throne \n",
            "Pashiri Na Boku To Koisuru Banchou San \n",
            "I Am An Invincible Genius \n",
            "Limit Breaker \n",
            "Trigger \n"
          ]
        },
        {
          "output_type": "stream",
          "name": "stderr",
          "text": [
            " 14%|█▍        | 288/2000 [00:02<00:15, 109.55it/s]"
          ]
        },
        {
          "output_type": "stream",
          "name": "stdout",
          "text": [
            "Legend Of The Northern Blade \n",
            "Chiaraijima Kanako Wa Naze %E2%97%8B%E2%97%8B Suru No Ka \n",
            "Chiaraijima Kanako Wa Naze %E2%97%8B%E2%97%8B Suru No Ka \n",
            "Chiaraijima Kanako Wa Naze %E2%97%8B%E2%97%8B Suru No Ka Chapter02\n",
            "Chiaraijima Kanako Wa Naze %E2%97%8B%E2%97%8B Suru No Ka \n",
            "I Stack Experience Through Writing Books \n",
            "The Live \n",
            "Bokutachi Wa Hanshoku Wo Yameta \n",
            "Battle Frenzy \n",
            "Ceos Sudden Proposal \n",
            "Ceos Sudden Proposal \n",
            "Demi Gods And Semi Devils \n",
            "Demon Spirit Seed Manual \n",
            "Demonic Housekeeper \n",
            "Hitoribocchi No Isekai Kouryaku \n",
            "After The Identity Of The Boss Was Exposed \n",
            "The First Son In Law Vanguard Of All Time \n",
            "Rebirth Abandoned Less Return \n",
            "Psycho Revenge \n",
            "Go Toubun No Hanayome \n",
            "Silver Plan To Redo From Jk \n",
            "Against The Gods \n",
            "Collecting The Divine \n"
          ]
        },
        {
          "output_type": "stream",
          "name": "stderr",
          "text": [
            " 16%|█▌        | 310/2000 [00:02<00:15, 108.07it/s]"
          ]
        },
        {
          "output_type": "stream",
          "name": "stdout",
          "text": [
            "The Strongest In History \n",
            "Heaven Defying Sword \n",
            "Micah The Blade \n",
            "My Beautiful Time With You \n",
            "My Beautiful Time With You \n",
            "My Beautiful Time With You \n",
            "My Beautiful Time With You \n",
            "My Beautiful Time With You \n",
            "Gosu \n",
            "Super Keyboard Man \n",
            "Spare Me Great Lord \n",
            "The Rebirth Of The Demon God \n",
            "The Blood Princess And The Knight \n",
            "The Blood Princess And The Knight \n",
            "Versatile Mage \n",
            "Versatile Mage \n",
            "Tokyo%E5%8D%8Drevengers \n",
            "Dragon Ball Super \n",
            "Dragon Ball Super \n",
            "My Harem Grew So Large I Was Forced To Ascend \n",
            "Martial Peak \n",
            "Martial Peak \n"
          ]
        },
        {
          "output_type": "stream",
          "name": "stderr",
          "text": [
            "\r 16%|█▌        | 321/2000 [00:03<00:16, 102.14it/s]"
          ]
        },
        {
          "output_type": "stream",
          "name": "stdout",
          "text": [
            "Immortal Swordsman In The Reverse World \n",
            "My Wife Is A Demon Queen \n",
            "I Am Daxianzun \n",
            "I Am Daxianzun \n",
            "I Am Daxianzun \n",
            "First Rate Master \n",
            "The Nine Heaven Of Martial Arts \n",
            "The Strongest Peach Blossom \n",
            "Iron Ladies \n",
            "Martial God Asura \n",
            "Bandai Kaname Wa Asobitai \n",
            "Rooftop Sword Master \n",
            "Wuxian Shitu Yu Shier Zhan Ji Infinite Apostles And Twelve War Girls \n",
            "Peerless Dad \n",
            "Beastars \n",
            "Take Your Mommy Home \n",
            "Nozomanu Fushi No Boukensha \n",
            "Night Bookstore \n",
            "Night Bookstore \n",
            "Negawakuba No Konote Ni Koufuku O \n",
            "Juujika No Rokunin \n"
          ]
        },
        {
          "output_type": "stream",
          "name": "stderr",
          "text": [
            " 17%|█▋        | 343/2000 [00:03<00:16, 100.65it/s]"
          ]
        },
        {
          "output_type": "stream",
          "name": "stdout",
          "text": [
            "My Death Flags Show No Sign Of Ending \n",
            "Kemono Jihen \n",
            "Kemono Jihen \n",
            "Two Sided Fall \n",
            "Kouritsu Kuriya Madoushi Daini No Jinsei De Madou Wo Kiwameru \n",
            "Please Go Home Akutsu San \n",
            "Monster No Goshujin Sama \n",
            "Monster No Goshujin Sama \n",
            "Zui Qiang Shen \n",
            "Class Ga Isekai Shoukan Sareta Naka Ore Dake Nokotta N Desu Ga \n",
            "Heaven Soul \n",
            "Nidome No Jinsei Wo Isekai De \n",
            "City Immortal Emperor Dragon King Temple \n",
            "Night Bookstore \n",
            "I Am A God Alone \n",
            "Gosu \n",
            "Orient \n",
            "Orient \n",
            "Naze Boku No Sekai Wo Daremo Oboeteinai No Ka \n",
            "Naze Boku No Sekai Wo Daremo Oboeteinai No Ka \n",
            "Escape From The Poverty By Catching Golem \n"
          ]
        },
        {
          "output_type": "stream",
          "name": "stderr",
          "text": [
            " 18%|█▊        | 365/2000 [00:03<00:16, 98.82it/s] "
          ]
        },
        {
          "output_type": "stream",
          "name": "stdout",
          "text": [
            "Two Sided Fall \n",
            "Apotheosis \n",
            "Return The Demon Goddess \n",
            "The Wife Contract And My Daughters Nanny \n",
            "The Wife Contract And My Daughters Nanny \n",
            "Heaven Soul \n",
            "Blue Lock \n",
            "Albert Ke No Reijou Wa Botsuraku Wo Go Shomou Desu \n",
            "Shijou Saikyou Orc San No Tanoshii Tanetsuke Harem Zukuri \n",
            "Rooster Fighter \n",
            "Kuma Kuma Kuma Bear \n",
            "Kanojo Mo Kanojo \n",
            "Nega Kun And Posi Chan \n",
            "Nega Kun And Posi Chan \n",
            "Shounen Chotto Sabotteko \n",
            "Giri Giri Saegiru Katagirisan \n",
            "Against The Gods \n",
            "Extreme God \n",
            "Heaven Soul \n",
            "Missys Geek Residing Plan \n"
          ]
        },
        {
          "output_type": "stream",
          "name": "stderr",
          "text": [
            " 19%|█▉        | 387/2000 [00:03<00:15, 102.79it/s]"
          ]
        },
        {
          "output_type": "stream",
          "name": "stdout",
          "text": [
            "Missys Geek Residing Plan \n",
            "Missys Geek Residing Plan \n",
            "Missys Geek Residing Plan \n",
            "Missys Geek Residing Plan \n",
            "Missys Geek Residing Plan \n",
            "Missys Geek Residing Plan \n",
            "Night Bookstore \n",
            "Tokyo%E5%8D%8Drevengers \n",
            "Battle Frenzy \n",
            "Ceos Sudden Proposal \n",
            "Ceos Sudden Proposal \n",
            "Demi Gods And Semi Devils \n",
            "Demon Spirit Seed Manual \n",
            "Demonic Housekeeper \n",
            "Heaven Soul \n",
            "Isekai De Tadahitori No Mamono Tsukai Tenshoku Shitara Maou Ni Machigawa Remashita \n",
            "Isekai De Tadahitori No Mamono Tsukai Tenshoku Shitara Maou Ni Machigawa Remashita \n",
            "Isekai De Tadahitori No Mamono Tsukai Tenshoku Shitara Maou Ni Machigawa Remashita \n",
            "Rebirth Of The Sword God Returns \n",
            "Rebirth Of The Sword God Returns \n",
            "__Trashed 29\n",
            "Rebirth Of The Sword God Returns \n",
            "Rebirth Of The Sword God Returns \n"
          ]
        },
        {
          "output_type": "stream",
          "name": "stderr",
          "text": [
            " 20%|██        | 409/2000 [00:03<00:15, 100.67it/s]"
          ]
        },
        {
          "output_type": "stream",
          "name": "stdout",
          "text": [
            "Rebirth Of The Sword God Returns \n",
            "Rebirth Of The Sword God Returns \n",
            "Rebirth Of The Sword God Returns \n",
            "Rebirth Of The Sword God Returns \n",
            "Rebirth Of The Sword God Returns \n",
            "Rebirth Of The Sword God Returns \n",
            "Rebirth Of The Sword God Returns \n",
            "Kill The Hero \n",
            "Gold System \n",
            "Gold System \n",
            "Heaven Defying Sword \n",
            "Night Bookstore \n",
            "Rebirth After 80 000 Years Passed \n",
            "The First Son In Law Vanguard Of All Time \n",
            "Trigger \n",
            "Micah The Blade \n",
            "My Beautiful Time With You \n",
            "My Beautiful Time With You \n",
            "My Beautiful Time With You \n",
            "My Beautiful Time With You \n",
            "My Beautiful Time With You \n",
            "Villain Demon Son In Law \n",
            "Villain Demon Son In Law \n"
          ]
        },
        {
          "output_type": "stream",
          "name": "stderr",
          "text": [
            " 22%|██▏       | 434/2000 [00:04<00:14, 108.22it/s]"
          ]
        },
        {
          "output_type": "stream",
          "name": "stdout",
          "text": [
            "Spare Me Great Lord \n",
            "Super Keyboard Man \n",
            "Two Sided Fall \n",
            "Sinsu Jeil Sword \n",
            "Sinsu Jeil Sword \n",
            "Sinsu Jeil Sword \n",
            "The Ghostly Doctor \n",
            "My Harem Grew So Large I Was Forced To Ascend \n",
            "Rebirth Become A Dog \n",
            "The Blood Princess And The Knight \n",
            "The Blood Princess And The Knight \n",
            "The Rebirth Of The Demon God \n",
            "Versatile Mage \n",
            "Versatile Mage \n",
            "Martial Peak \n",
            "Martial Peak \n",
            "Virtual World Close Combat Mage \n",
            "My Wife Is A Demon Queen \n",
            "Guard Againt The Sky \n",
            "Guard Againt The Sky \n",
            "Guard Againt The Sky \n",
            "Hone Dragon No Mana Musume \n"
          ]
        },
        {
          "output_type": "stream",
          "name": "stderr",
          "text": [
            " 23%|██▎       | 456/2000 [00:04<00:15, 100.28it/s]"
          ]
        },
        {
          "output_type": "stream",
          "name": "stdout",
          "text": [
            "Urban Legend Investigation Team \n",
            "Urban Legend Investigation Team \n",
            "Urban Legend Investigation Team \n",
            "Urban Legend Investigation Team \n",
            "Urban Legend Investigation Team \n",
            "Urban Legend Investigation Team \n",
            "Urban Legend Investigation Team \n",
            "Urban Legend Investigation Team \n",
            "Kuroha To Nijisuke \n",
            "Kuroha To Nijisuke \n",
            "Kuroha To Nijisuke \n",
            "Kuroha To Nijisuke \n",
            "Kuroha To Nijisuke \n",
            "Hitpoint \n",
            "Hitpoint \n",
            "Hitpoint \n",
            "Hitpoint \n",
            "Hitpoint \n",
            "The Nine Heaven Of Martial Arts \n"
          ]
        },
        {
          "output_type": "stream",
          "name": "stderr",
          "text": [
            " 24%|██▍       | 477/2000 [00:04<00:15, 96.44it/s]"
          ]
        },
        {
          "output_type": "stream",
          "name": "stdout",
          "text": [
            "Metropolitan Citys Ying Yang Miracle Doctor \n",
            "Heaven Soul \n",
            "Arasa Dakedo Hatsukoi Desu \n",
            "Arasa Dakedo Hatsukoi Desu \n",
            "Night Bookstore \n",
            "Bocchi Hakase To Robot Shoujo No Zetsubou Teki Utopia \n",
            "Black Clover \n",
            "Martial God Asura \n",
            "Strongest Evolution Of Zombie \n",
            "I The Strongest Demon Have Regained My Youth \n",
            "Taming Master \n",
            "Tales Of Demons And Gods \n",
            "Bocchi Hakase To Robot Shoujo No Zetsubou Teki Utopia \n",
            "Ouji Sama Nante Iranai \n",
            "8Kaijuu \n",
            "Jujutsu Kaisen \n",
            "Kanzen Kaihi Healer No Kiseki \n",
            "Jishou F Rank No Oniisama Ga Game De Hyouka Sareru Gakuen No Chouten Ni Kunrin Suru Sou Desu Yo \n",
            "The Adventurers That Dont Believe In Humanity Will Save The World Ningen Fushin No Boukenshatachi \n",
            "Strongest Anti M E T A \n"
          ]
        },
        {
          "output_type": "stream",
          "name": "stderr",
          "text": [
            " 25%|██▍       | 498/2000 [00:04<00:15, 97.93it/s]"
          ]
        },
        {
          "output_type": "stream",
          "name": "stdout",
          "text": [
            "Rougo Ni Sonaete I Sekai De 8 Man Mai No Kinka O Tamemasu \n",
            "Wuxian Shitu Yu Shier Zhan Ji Infinite Apostles And Twelve War Girls \n",
            "Trigger \n",
            "The Villain \n",
            "Kaichou Wa Maid Sama \n",
            "The Rest Of My Life On The Desert Island \n",
            "The Heaven List \n",
            "The Heaven List \n",
            "The Heaven List \n",
            "The Heaven List \n",
            "The Heaven List \n",
            "The Heaven List \n",
            "The Heaven List \n",
            "The Heaven List \n",
            "The Heaven List \n",
            "The Heaven List \n",
            "The Heaven List \n",
            "The Heaven List \n",
            "The Heaven List \n",
            "The Heaven List \n",
            "The Heaven List \n",
            "The Heaven List \n"
          ]
        },
        {
          "output_type": "stream",
          "name": "stderr",
          "text": [
            " 26%|██▌       | 519/2000 [00:05<00:14, 101.46it/s]"
          ]
        },
        {
          "output_type": "stream",
          "name": "stdout",
          "text": [
            "The Heaven List \n",
            "The Heaven List \n",
            "The Heaven List \n",
            "The Heaven List \n",
            "King Of Apocalypse \n",
            "Night Bookstore \n",
            "Gosu \n",
            "Heaven Soul \n",
            "Full Level Peach Blossom Acupuncturist \n",
            "Koi Shita No De Haishin Shite Mita \n",
            "Night Bookstore \n",
            "Rooftop Sword Master \n",
            "Return Survival \n",
            "Return Survival \n",
            "Return Survival \n",
            "Against The Gods \n",
            "Please Go Home Akutsu San \n",
            "Invincible Sword Domain \n",
            "Kaifuku Jutsushi Yarinaoshi Sokushi Mahou To Skill Copy No Chouetsu Heal \n",
            "Dungeons Artifacts \n",
            "Apotheosis \n",
            "Return Survival \n",
            "Return Survival \n"
          ]
        },
        {
          "output_type": "stream",
          "name": "stderr",
          "text": [
            " 27%|██▋       | 541/2000 [00:05<00:14, 101.12it/s]"
          ]
        },
        {
          "output_type": "stream",
          "name": "stdout",
          "text": [
            "Medical Martial Arts \n",
            "Leviathan \n",
            "The Wife Contract And My Daughters Nanny \n",
            "The Wife Contract And My Daughters Nanny \n",
            "The Girl From Random Chatting \n",
            "Oshi No Ko \n",
            "Battle Frenzy \n",
            "Ceos Sudden Proposal \n",
            "Ceos Sudden Proposal \n",
            "Demi Gods And Semi Devils \n",
            "Demon Spirit Seed Manual \n",
            "Demonic Housekeeper \n",
            "Arasa Dakedo Hatsukoi Desu \n",
            "Arasa Dakedo Hatsukoi Desu \n",
            "Bandai Kaname Wa Asobitai \n",
            "Ouji Sama Nante Iranai \n",
            "Night Bookstore \n",
            "Heaven Defying Sword \n",
            "Legend Of Phoenix \n",
            "100 Nin No Eiyuu O Sodateta Saikyou Yogensha Wa \n"
          ]
        },
        {
          "output_type": "stream",
          "name": "stderr",
          "text": [
            " 28%|██▊       | 564/2000 [00:05<00:13, 107.44it/s]"
          ]
        },
        {
          "output_type": "stream",
          "name": "stdout",
          "text": [
            "Micah The Blade \n",
            "My Beautiful Time With You \n",
            "My Beautiful Time With You \n",
            "My Beautiful Time With You \n",
            "My Beautiful Time With You \n",
            "My Beautiful Time With You \n",
            "The Top Abandoned Young \n",
            "Sovereign Of Judgment \n",
            "Sovereign Of Judgment \n",
            "Sovereign Of Judgment \n",
            "Tokyo%E5%8D%8Drevengers \n",
            "Spare Me Great Lord \n",
            "Super Keyboard Man \n",
            "The Blood Princess And The Knight \n",
            "The Blood Princess And The Knight \n",
            "The Rebirth Of The Demon God \n",
            "Versatile Mage \n",
            "Versatile Mage \n",
            "God Level Takeout Man \n",
            "Road To Heaven \n",
            "Martial Peak \n",
            "Martial Peak \n",
            "Star Martial God Technique \n",
            "Release That Witch "
          ]
        },
        {
          "output_type": "stream",
          "name": "stderr",
          "text": [
            " 29%|██▉       | 586/2000 [00:05<00:13, 107.33it/s]"
          ]
        },
        {
          "output_type": "stream",
          "name": "stdout",
          "text": [
            "\n",
            "Yong Heng Zhi Zun \n",
            "I Am Daxianzun \n",
            "I Am Daxianzun \n",
            "I Am Daxianzun \n",
            "Rebirth Of The Urban Immortal Cultivator \n",
            "Eiyu Oh Bu Wo Kiwameru Tame Tensei Su Soshite Sekai Saikyou No Minarai Kisi \n",
            "Sasayaku You Ni Koi Wo Utau \n",
            "Metropolitan Supremacy System \n",
            "Silver Demon King \n",
            "The Heaven List \n",
            "The Heaven List \n",
            "The Heaven List \n",
            "The Heaven List \n",
            "The Heaven List \n",
            "The Heaven List \n",
            "The Heaven List \n",
            "The Heaven List \n",
            "The Heaven List \n",
            "The Heaven List \n",
            "The Heaven List \n",
            "The Heaven List \n"
          ]
        },
        {
          "output_type": "stream",
          "name": "stderr",
          "text": [
            " 30%|███       | 610/2000 [00:05<00:12, 112.39it/s]"
          ]
        },
        {
          "output_type": "stream",
          "name": "stdout",
          "text": [
            "Leviathan \n",
            "Leviathan \n",
            "I Am Not A Son Of Doom \n",
            "The Strongest Golden Kidney System \n",
            "The Demon King Who Lost His Job \n",
            "Urban God \n",
            "The Kingdom Of Ruin \n",
            "Night Bookstore \n",
            "City Immortal Emperor Dragon King Temple \n",
            "Urban Legend Investigation Team \n",
            "Urban Legend Investigation Team \n",
            "My Harem Depend On Drawing \n",
            "My Dad Is Too Strong \n",
            "Shi Chenxiang \n",
            "Super School Doctor \n",
            "Pregnant Wife One Plus One \n",
            "Wuxian Shitu Yu Shier Zhan Ji Infinite Apostles And Twelve War Girls \n",
            "Kuro No Shoukanshi \n",
            "Mercenary Enrollment \n",
            "Leviathan \n",
            "Leviathan \n",
            "Leviathan \n",
            "Shijou Saikyou No Mahou Kenshi F Rank Boukensha Ni Tensei Suru \n",
            "Arifureta Shokugyou De Sekai Saikyou Zero \n",
            "Assassins Pride \n",
            "Negawakuba No Konote Ni Koufuku O \n"
          ]
        },
        {
          "output_type": "stream",
          "name": "stderr",
          "text": [
            " 32%|███▏      | 635/2000 [00:06<00:11, 115.40it/s]"
          ]
        },
        {
          "output_type": "stream",
          "name": "stdout",
          "text": [
            "Kouritsu Kuriya Madoushi Daini No Jinsei De Madou Wo Kiwameru \n",
            "Best Son In Law \n",
            "Please Go Home Akutsu San \n",
            "Kaiko Sareta Ankoku Heishi 30 Dai No Slow Na Second Life \n",
            "Volcanic Age \n",
            "Gosu \n",
            "Night Bookstore \n",
            "Medical Martial Arts \n",
            "My Son In Law \n",
            "My Son In Law \n",
            "Highest Level Returnee Max Level Returner \n",
            "Dushi Xiaoyao \n",
            "Dushi Xiaoyao \n",
            "Dushi Xiaoyao \n",
            "Night Bookstore \n",
            "Night Bookstore \n",
            "Trigger \n",
            "Magic Emperor \n",
            "Against The Gods \n",
            "Fire Brigade Of Flame \n",
            "Go Toubun No Hanayome \n",
            "Invincible Sword Domain \n",
            "Fushichou E No Tensei Dragon Taoseru Tte Futsuu No Tori Ja Nai Yo Ne \n",
            "The God Of High School \n",
            "Boku No Namae Wa Shounen A \n"
          ]
        },
        {
          "output_type": "stream",
          "name": "stderr",
          "text": [
            " 33%|███▎      | 659/2000 [00:06<00:12, 106.93it/s]"
          ]
        },
        {
          "output_type": "stream",
          "name": "stdout",
          "text": [
            "Bokutachi Wa Hanshoku Wo Yameta \n",
            "Take Your Mommy Home \n",
            "Medical Return \n",
            "Arafoo Kenja No Isekai Seikatsu Nikki \n",
            "Yofukashi No Uta \n",
            "Yofukashi No Uta \n",
            "Metropolitan Citys Ying Yang Miracle Doctor \n",
            "Battle Frenzy \n",
            "Ceos Sudden Proposal \n",
            "Ceos Sudden Proposal \n",
            "Demi Gods And Semi Devils \n",
            "Demon Spirit Seed Manual \n",
            "Demonic Housekeeper \n",
            "Demonic Housekeeper \n",
            "Collecting The Divine \n",
            "Bungo \n",
            "Bungo \n",
            "A Breakthrough Brought By Forbidden Master And Disciple \n",
            "Tokyo%E5%8D%8Drevengers \n",
            "Flower Wizard \n",
            "I Stack Experience Through Writing Books \n"
          ]
        },
        {
          "output_type": "stream",
          "name": "stderr",
          "text": [
            " 34%|███▍      | 681/2000 [00:06<00:12, 107.40it/s]"
          ]
        },
        {
          "output_type": "stream",
          "name": "stdout",
          "text": [
            "Shen Haos Heavenly Fall System \n",
            "Shen Haos Heavenly Fall System \n",
            "Shen Haos Heavenly Fall System \n",
            "Shen Haos Heavenly Fall System \n",
            "First Rate Master \n",
            "Micah The Blade \n",
            "My Beautiful Time With You \n",
            "My Beautiful Time With You \n",
            "My Beautiful Time With You \n",
            "My Beautiful Time With You \n",
            "My Beautiful Time With You \n",
            "A Returners Magic Should Be Special \n",
            "Night Bookstore \n",
            "Spare Me Great Lord \n",
            "Versatile Mage \n",
            "Versatile Mage \n",
            "The Blood Princess And The Knight \n",
            "The Blood Princess And The Knight \n",
            "The Rebirth Of The Demon God \n",
            "Ayakashi Triangle \n",
            "Martial Peak \n",
            "Martial Peak \n"
          ]
        },
        {
          "output_type": "stream",
          "name": "stderr",
          "text": [
            " 35%|███▌      | 704/2000 [00:06<00:12, 105.95it/s]"
          ]
        },
        {
          "output_type": "stream",
          "name": "stdout",
          "text": [
            "Immortal Swordsman In The Reverse World \n",
            "The Ghostly Doctor \n",
            "Maou No Ore Ga Dorei Elf Wo Yome Ni Shitanda Ga Dou Medereba Ii \n",
            "Yuan Zun \n",
            "Yuan Zun \n",
            "Yuan Zun \n",
            "Yuan Zun \n",
            "Yuan Zun \n",
            "Yuan Zun \n",
            "Yuan Zun \n",
            "Yuan Zun \n",
            "Yuan Zun \n",
            "Yuan Zun \n",
            "Yuan Zun \n",
            "Rebirth Of The Urban Immortal Cultivator \n",
            "Leviathan \n",
            "Urban God \n",
            "Talented Genius \n",
            "Talented Genius \n",
            "Koe Ga Dasenai Shoujo Wa Kanojo Ga Yasashisugiru To Omotte Iru \n",
            "The Developer System \n",
            "Kingdom \n"
          ]
        },
        {
          "output_type": "stream",
          "name": "stderr",
          "text": [
            " 36%|███▋      | 727/2000 [00:07<00:12, 105.57it/s]"
          ]
        },
        {
          "output_type": "stream",
          "name": "stdout",
          "text": [
            "Leviathan \n",
            "Leviathan \n",
            "Leviathan \n",
            "Leviathan \n",
            "God Of War Dragon Son In Law \n",
            "Rebirth Abandoned Less Return \n",
            "Jigokuraku \n",
            "Jimina Ken Sei Wa Sore Demo Saikyou Desu \n",
            "Mashle Magic And Muscles \n",
            "Strongest Anti M E T A \n",
            "I Am The Sorcerer King \n",
            "Magic Emperor \n",
            "Soul Land \n",
            "Battle Through The Heavens \n",
            "Isekai Meikyuu De Harem Wo \n",
            "Build King \n",
            "Night Bookstore \n",
            "Trigger \n",
            "Nito No Taidana Isekai Shoukougun \n",
            "Mother Im Sorry \n",
            "Promised Orchid \n",
            "Maou Desu Onna Yuusha No Hahaoya To Saikon Shita No De Onna Yuusha Ga Giri No Musume Ni Narimashita \n",
            "Living In This World With Cut Paste \n"
          ]
        },
        {
          "output_type": "stream",
          "name": "stderr",
          "text": [
            " 37%|███▋      | 749/2000 [00:07<00:12, 104.13it/s]"
          ]
        },
        {
          "output_type": "stream",
          "name": "stdout",
          "text": [
            "Hazure Skill Mapping Wo Te Ni Shita Shonen Ha Saikyou Party To Dungeon Ni Idomu \n",
            "Mom Please Dont Come Adventuring With Me \n",
            "The Strongest Peach Blossom \n",
            "Battle Frenzy \n",
            "Ceos Sudden Proposal \n",
            "Ceos Sudden Proposal \n",
            "Demi Gods And Semi Devils \n",
            "Demon Spirit Seed Manual \n",
            "Demonic Housekeeper \n",
            "Demonic Housekeeper \n",
            "Gold System \n",
            "The Strongest Manager In History \n",
            "Dr Stone \n",
            "Night Bookstore \n",
            "The Nine Heaven Of Martial Arts \n",
            "The Nine Heaven Of Martial Arts \n",
            "God Of Cooking \n",
            "The Legend Of Qing Emperor \n",
            "Extreme God \n",
            "Extreme God \n",
            "Extreme God \n",
            "Extreme God \n"
          ]
        },
        {
          "output_type": "stream",
          "name": "stderr",
          "text": [
            "\r 38%|███▊      | 760/2000 [00:07<00:13, 93.08it/s] "
          ]
        },
        {
          "output_type": "stream",
          "name": "stdout",
          "text": [
            "Blue Lock \n",
            "Hinmin Choujin Kanenashi Kun \n",
            "Shounen Chotto Sabotteko \n",
            "Mission Yozakura Family \n",
            "Against The Gods \n",
            "Koushaku Reijou No Tashinami \n",
            "Heaven Defying Sword \n",
            "Heaven Defying Sword \n",
            "Micah The Blade \n",
            "My Beautiful Time With You \n",
            "My Beautiful Time With You \n",
            "My Beautiful Time With You \n",
            "My Beautiful Time With You \n",
            "My Beautiful Time With You \n",
            "Nine Years Obligation Cultivate \n"
          ]
        },
        {
          "output_type": "stream",
          "name": "stderr",
          "text": [
            " 39%|███▉      | 779/2000 [00:07<00:14, 85.25it/s]"
          ]
        },
        {
          "output_type": "stream",
          "name": "stdout",
          "text": [
            "Legacy \n",
            "The Nether World Mix Of Jiang Long \n",
            "Who Said Im The Boss \n",
            "Get Life \n",
            "Outsider Super Son In Law \n",
            "Ayakashi Triangle \n",
            "The Wife Contract And My Daughters Nanny \n",
            "The Wife Contract And My Daughters Nanny \n",
            "Kaifuku Jutsushi Yarinaoshi Sokushi Mahou To Skill Copy No Chouetsu Heal \n",
            "Talented Genius \n",
            "Talented Genius \n",
            "Talented Genius \n",
            "Talented Genius \n",
            "Talented Genius \n",
            "Talented Genius \n",
            "Return To Player \n"
          ]
        },
        {
          "output_type": "stream",
          "name": "stderr",
          "text": [
            " 40%|███▉      | 797/2000 [00:07<00:14, 81.39it/s]"
          ]
        },
        {
          "output_type": "stream",
          "name": "stdout",
          "text": [
            "Chichi Wa Eiyuu Haha Wa Seirei Musume No Watashi Wa Tenseisha \n",
            "Fff Class Trashero \n",
            "Sakamoto Days \n",
            "Tokyo%E5%8D%8Drevengers \n",
            "My Harem Depend On Drawing \n",
            "I Wont Marry The Enemy Prince \n",
            "Isekai De Slow Life Wo Ganbou \n",
            "Spare Me Great Lord \n",
            "Versatile Mage \n",
            "Versatile Mage \n",
            "Yuan Zun \n",
            "Super Keyboard Man \n",
            "The Blood Princess And The Knight \n",
            "The Blood Princess And The Knight \n",
            "Ling Tian Shendi \n",
            "Shi Chenxiang \n",
            "Cultivation Return On Campus \n"
          ]
        },
        {
          "output_type": "stream",
          "name": "stderr",
          "text": [
            " 41%|████      | 816/2000 [00:08<00:13, 84.92it/s]"
          ]
        },
        {
          "output_type": "stream",
          "name": "stdout",
          "text": [
            "Cultivation Return On Campus \n",
            "Cultivation Return On Campus \n",
            "Cultivation Return On Campus \n",
            "Cultivation Return On Campus \n",
            "Cultivation Return On Campus \n",
            "Cultivation Return On Campus \n",
            "Cultivation Return On Campus \n",
            "Cultivation Return On Campus \n",
            "My Harem Grew So Large I Was Forced To Ascend \n",
            "Invincible Sword Domain \n",
            "Legend Of Immortals \n",
            "Legend Of Immortals \n",
            "Legend Of Immortals \n",
            "Legend Of Immortals \n",
            "Legend Of Immortals \n",
            "Legend Of Immortals \n",
            "Legend Of Immortals \n",
            "Legend Of Immortals \n"
          ]
        },
        {
          "output_type": "stream",
          "name": "stderr",
          "text": [
            "\r 41%|████▏     | 825/2000 [00:08<00:14, 81.38it/s]"
          ]
        },
        {
          "output_type": "stream",
          "name": "stdout",
          "text": [
            "Legend Of Immortals \n",
            "Legend Of Immortals \n",
            "Legend Of Immortals \n",
            "Legend Of Immortals \n",
            "Legend Of Immortals \n",
            "Legend Of Immortals \n",
            "Legend Of Immortals \n",
            "Legend Of Immortals \n",
            "Legend Of Immortals \n",
            "Legend Of Immortals \n",
            "Legend Of Immortals \n",
            "Legend Of Immortals \n",
            "Legend Of Immortals \n",
            "Legend Of Immortals \n",
            "Legend Of Immortals \n",
            "Legend Of Immortals \n"
          ]
        },
        {
          "output_type": "stream",
          "name": "stderr",
          "text": [
            " 42%|████▏     | 842/2000 [00:08<00:15, 76.95it/s]"
          ]
        },
        {
          "output_type": "stream",
          "name": "stdout",
          "text": [
            "Legend Of Immortals \n",
            "Legend Of Immortals \n",
            "Legend Of Immortals \n",
            "Legend Of Immortals \n",
            "Legend Of Immortals \n",
            "Legend Of Immortals \n",
            "Legend Of Immortals \n",
            "Legend Of Immortals \n",
            "Legend Of Immortals \n",
            "Legend Of Immortals \n",
            "Legend Of Immortals \n",
            "Legend Of Immortals \n",
            "Legend Of Immortals \n",
            "Legend Of Immortals \n",
            "Legend Of Immortals \n",
            "Legend Of Immortals \n"
          ]
        },
        {
          "output_type": "stream",
          "name": "stderr",
          "text": [
            " 43%|████▎     | 859/2000 [00:08<00:14, 79.76it/s]"
          ]
        },
        {
          "output_type": "stream",
          "name": "stdout",
          "text": [
            "Legend Of Immortals \n",
            "Legend Of Immortals \n",
            "Legend Of Immortals \n",
            "Legend Of Immortals \n",
            "Legend Of Immortals \n",
            "Legend Of Immortals \n",
            "Legend Of Immortals \n",
            "Legend Of Immortals \n",
            "Legend Of Immortals \n",
            "Legend Of Immortals \n",
            "Legend Of Immortals \n",
            "Legend Of Immortals \n",
            "Legend Of Immortals \n",
            "Legend Of Immortals \n",
            "Legend Of Immortals \n",
            "Legend Of Immortals \n",
            "Legend Of Immortals \n"
          ]
        },
        {
          "output_type": "stream",
          "name": "stderr",
          "text": [
            " 44%|████▍     | 877/2000 [00:08<00:14, 79.89it/s]"
          ]
        },
        {
          "output_type": "stream",
          "name": "stdout",
          "text": [
            "Legend Of Immortals \n",
            "Legend Of Immortals \n",
            "Legend Of Immortals \n",
            "Legend Of Immortals \n",
            "Legend Of Immortals \n",
            "Legend Of Immortals \n",
            "Legend Of Immortals \n",
            "Legend Of Immortals \n",
            "Legend Of Immortals \n",
            "Legend Of Immortals \n",
            "Legend Of Immortals \n",
            "Legend Of Immortals \n",
            "Legend Of Immortals \n",
            "Legend Of Immortals \n",
            "Legend Of Immortals \n",
            "Legend Of Immortals \n",
            "Legend Of Immortals \n"
          ]
        },
        {
          "output_type": "stream",
          "name": "stderr",
          "text": [
            " 45%|████▍     | 894/2000 [00:09<00:14, 77.84it/s]"
          ]
        },
        {
          "output_type": "stream",
          "name": "stdout",
          "text": [
            "Legend Of Immortals \n",
            "Legend Of Immortals \n",
            "Legend Of Immortals \n",
            "Legend Of Immortals \n",
            "Legend Of Immortals \n",
            "Legend Of Immortals \n",
            "Legend Of Immortals \n",
            "Legend Of Immortals \n",
            "Legend Of Immortals \n",
            "Legend Of Immortals \n",
            "Legend Of Immortals \n",
            "Legend Of Immortals \n",
            "Legend Of Immortals \n",
            "Legend Of Immortals \n",
            "Legend Of Immortals \n",
            "Legend Of Immortals \n"
          ]
        },
        {
          "output_type": "stream",
          "name": "stderr",
          "text": [
            " 46%|████▌     | 910/2000 [00:09<00:14, 75.12it/s]"
          ]
        },
        {
          "output_type": "stream",
          "name": "stdout",
          "text": [
            "Legend Of Immortals \n",
            "Legend Of Immortals \n",
            "Legend Of Immortals \n",
            "Legend Of Immortals \n",
            "Legend Of Immortals \n",
            "Legend Of Immortals \n",
            "Legend Of Immortals \n",
            "Legend Of Immortals \n",
            "Legend Of Immortals \n",
            "Legend Of Immortals \n",
            "Legend Of Immortals \n",
            "Legend Of Immortals \n",
            "Legend Of Immortals \n",
            "Legend Of Immortals \n",
            "Legend Of Immortals \n"
          ]
        },
        {
          "output_type": "stream",
          "name": "stderr",
          "text": [
            " 46%|████▋     | 927/2000 [00:09<00:14, 74.99it/s]"
          ]
        },
        {
          "output_type": "stream",
          "name": "stdout",
          "text": [
            "Legend Of Immortals \n",
            "Legend Of Immortals \n",
            "Legend Of Immortals \n",
            "Legend Of Immortals \n",
            "Legend Of Immortals \n",
            "Legend Of Immortals \n",
            "Legend Of Immortals \n",
            "Legend Of Immortals \n",
            "Legend Of Immortals \n",
            "Legend Of Immortals \n",
            "Legend Of Immortals \n",
            "Legend Of Immortals \n",
            "Legend Of Immortals \n",
            "Legend Of Immortals \n",
            "Legend Of Immortals \n",
            "Legend Of Immortals \n",
            "Legend Of Immortals \n"
          ]
        },
        {
          "output_type": "stream",
          "name": "stderr",
          "text": [
            " 47%|████▋     | 949/2000 [00:09<00:11, 88.44it/s]"
          ]
        },
        {
          "output_type": "stream",
          "name": "stdout",
          "text": [
            "Legend Of Immortals \n",
            "Legend Of Immortals \n",
            "Legend Of Immortals \n",
            "Legend Of Immortals \n",
            "Legend Of Immortals \n",
            "Legend Of Immortals \n",
            "Legend Of Immortals \n",
            "Legend Of Immortals \n",
            "Legend Of Immortals \n",
            "Legend Of Immortals \n",
            "Legend Of Immortals \n",
            "Legend Of Immortals \n",
            "Legend Of Immortals \n",
            "Legend Of Immortals \n",
            "Legend Of Immortals \n",
            "Legend Of Immortals \n",
            "Legend Of Immortals \n",
            "Legend Of Immortals \n",
            "Legend Of Immortals \n",
            "Legend Of Immortals \n",
            "Legend Of Immortals \n",
            "Legend Of Immortals \n"
          ]
        },
        {
          "output_type": "stream",
          "name": "stderr",
          "text": [
            " 49%|████▊     | 971/2000 [00:09<00:10, 97.28it/s]"
          ]
        },
        {
          "output_type": "stream",
          "name": "stdout",
          "text": [
            "Legend Of Immortals \n",
            "Legend Of Immortals \n",
            "Legend Of Immortals \n",
            "Legend Of Immortals \n",
            "Legend Of Immortals \n",
            "Legend Of Immortals \n",
            "Legend Of Immortals \n",
            "Legend Of Immortals \n",
            "Legend Of Immortals \n",
            "Legend Of Immortals \n",
            "Legend Of Immortals \n",
            "Legend Of Immortals \n",
            "Legend Of Immortals \n",
            "Legend Of Immortals \n",
            "Legend Of Immortals \n",
            "Legend Of Immortals \n",
            "Legend Of Immortals \n",
            "Legend Of Immortals \n",
            "Legend Of Immortals \n",
            "Legend Of Immortals \n",
            "Legend Of Immortals \n",
            "Legend Of Immortals \n",
            "Legend Of Immortals \n"
          ]
        },
        {
          "output_type": "stream",
          "name": "stderr",
          "text": [
            " 50%|████▉     | 991/2000 [00:10<00:10, 95.71it/s]"
          ]
        },
        {
          "output_type": "stream",
          "name": "stdout",
          "text": [
            "Legend Of Immortals \n",
            "Legend Of Immortals \n",
            "Legend Of Immortals \n",
            "Legend Of Immortals \n",
            "Legend Of Immortals \n",
            "Legend Of Immortals \n",
            "Virtual World Close Combat Mage \n",
            "Martial Peak \n",
            "Martial Peak \n",
            "Night Bookstore \n",
            "Night Bookstore \n",
            "The Superb Captain In The City \n",
            "The Last Human \n",
            "I Am Daxianzun \n",
            "I Am Daxianzun \n",
            "Boku No Kokoro No Yatsu \n",
            "Boku No Kokoro No Yatsu \n",
            "Boku No Kokoro No Yatsu \n",
            "Boku No Kokoro No Yatsu \n",
            "Boku No Kokoro No Yatsu \n",
            "Iron Ladies \n"
          ]
        },
        {
          "output_type": "stream",
          "name": "stderr",
          "text": [
            " 51%|█████     | 1013/2000 [00:10<00:09, 101.99it/s]"
          ]
        },
        {
          "output_type": "stream",
          "name": "stdout",
          "text": [
            "Martial God Asura \n",
            "Fukushuu O Koinegau Saikyou Yuusha Wa Yami No Chikara De Senmetsu Musou Suru \n",
            "Tales Of Demons And Gods \n",
            "The Max Leveled Hero Will Return \n",
            "Night Bookstore \n",
            "The Grandmaster Of Demonic Cultivation \n",
            "The Grandmaster Of Demonic Cultivation \n",
            "The Grandmaster Of Demonic Cultivation \n",
            "The Grandmaster Of Demonic Cultivation \n",
            "The Grandmaster Of Demonic Cultivation \n",
            "The Grandmaster Of Demonic Cultivation \n",
            "The Grandmaster Of Demonic Cultivation \n",
            "Houseki No Kuni \n",
            "Beastars \n",
            "Karakai Jouzu No Moto Takagi San \n",
            "Karakai Jouzu No Moto Takagi San \n",
            "Karakai Jouzu No Moto Takagi San \n",
            "Karakai Jouzu No Moto Takagi San \n",
            "That Girl Is Not Just Cute \n",
            "That Girl Is Not Just Cute \n",
            "29 Sai Dokushin Wa Isekai De Jiyuu Ni Ikitakatta \n",
            "Jitsu Wa Ore Saikyou Deshita \n",
            "Dice \n"
          ]
        },
        {
          "output_type": "stream",
          "name": "stderr",
          "text": [
            " 52%|█████▏    | 1036/2000 [00:10<00:09, 104.30it/s]"
          ]
        },
        {
          "output_type": "stream",
          "name": "stdout",
          "text": [
            "Goblin Slayer Gaiden Year One \n",
            "The Strongest Peach Blossom \n",
            "Shura Sword Sovereign \n",
            "Rebirth I Am The Great God \n",
            "Juujika No Rokunin \n",
            "Radiation House \n",
            "Peerless Soul \n",
            "Kenja No Mago \n",
            "Night Bookstore \n",
            "Reincarnated As An Aristocrat With An Appraisal Skill \n",
            "Invincible Sword Domain \n",
            "One Punch Man \n",
            "Return To Player \n",
            "Oda Nobunaga To Iu Nazo No Shokugyo Ga Mahou Kenshi Yori Cheat Dattanode Oukoku Wo Tsukuru Koto Ni Shimashita \n",
            "Dungeon Reset \n",
            "Dungeon Reset \n",
            "Worn And Torn Newbie \n",
            "I Am In China To Repairing Spiritual Veins \n",
            "I Am In China To Repairing Spiritual Veins \n",
            "I Am In China To Repairing Spiritual Veins \n",
            "I Am In China To Repairing Spiritual Veins \n",
            "I Am In China To Repairing Spiritual Veins \n"
          ]
        },
        {
          "output_type": "stream",
          "name": "stderr",
          "text": [
            " 53%|█████▎    | 1058/2000 [00:10<00:09, 103.06it/s]"
          ]
        },
        {
          "output_type": "stream",
          "name": "stdout",
          "text": [
            "I Am In China To Repairing Spiritual Veins \n",
            "I Am In China To Repairing Spiritual Veins \n",
            "The Strongest Dad In History \n",
            "The Strongest Dad In History \n",
            "The Strongest Dad In History \n",
            "The Strongest Dad In History \n",
            "The Strongest Dad In History \n",
            "The Strongest Dad In History \n",
            "Monster No Goshujin Sama \n",
            "The Rest Of My Life On The Desert Island \n",
            "I Am An Invincible Genius \n",
            "God Slayer \n",
            "Guard Againt The Sky \n",
            "Rebirth Of The Sword God Returns \n",
            "Trigger \n",
            "The Undefeatable Swordsman \n",
            "Ester De Valonia \n",
            "Ester De Valonia \n",
            "Ester De Valonia \n",
            "Ester De Valonia \n",
            "Ester De Valonia \n",
            "Ester De Valonia \n"
          ]
        },
        {
          "output_type": "stream",
          "name": "stderr",
          "text": [
            " 54%|█████▍    | 1080/2000 [00:11<00:09, 96.54it/s] "
          ]
        },
        {
          "output_type": "stream",
          "name": "stdout",
          "text": [
            "Ester De Valonia \n",
            "Ester De Valonia \n",
            "Ester De Valonia \n",
            "Battle Frenzy \n",
            "Ceos Sudden Proposal \n",
            "Ceos Sudden Proposal \n",
            "Demi Gods And Semi Devils \n",
            "Demon Spirit Seed Manual \n",
            "Demonic Housekeeper \n",
            "Demonic Housekeeper \n",
            "Return To The Earth And Be A God Stick \n",
            "The Strongest Golden Kidney System \n",
            "Shounen Chotto Sabotteko \n",
            "Giri Giri Saegiru Katagirisan \n",
            "Ienai Himitsu No Aishikata \n",
            "Ienai Himitsu No Aishikata \n",
            "Ienai Himitsu No Aishikata \n",
            "Ienai Himitsu No Aishikata \n",
            "Against The Gods \n"
          ]
        },
        {
          "output_type": "stream",
          "name": "stderr",
          "text": [
            " 55%|█████▌    | 1100/2000 [00:11<00:09, 96.38it/s]"
          ]
        },
        {
          "output_type": "stream",
          "name": "stdout",
          "text": [
            "Shin No Nakama Janai To Yuusha No Party Wo Oidasareta Node Henkyou De Slow Life Suru Koto Ni Shimashita \n",
            "I Dont Really Get It But It Looks Like I Was Reincarnated In Another World \n",
            "To Be The Castellan King \n",
            "Strongest Leveling \n",
            "The Wife Contract And My Daughters Nanny \n",
            "The Wife Contract And My Daughters Nanny \n",
            "Night Bookstore \n",
            "Hanazono Twins \n",
            "Kekkon Surutte Hontou Desu Ka \n",
            "Spy X Family \n",
            "Trigger \n",
            "Save The World Uncle \n",
            "Save The World Uncle \n",
            "Tokyo%E5%8D%8Drevengers \n",
            "Rebirth After 80 000 Years Passed \n",
            "Rebirth Of The 8 Circled Mage \n",
            "Cultivation Record Of The Undead King \n",
            "Cultivation Record Of The Undead King \n",
            "Cultivation Record Of The Undead King \n",
            "Cultivation Record Of The Undead King \n",
            "Cultivation Record Of The Undead King \n"
          ]
        },
        {
          "output_type": "stream",
          "name": "stderr",
          "text": [
            " 56%|█████▌    | 1121/2000 [00:11<00:09, 95.07it/s]"
          ]
        },
        {
          "output_type": "stream",
          "name": "stdout",
          "text": [
            "Cultivation Record Of The Undead King \n",
            "Cultivation Record Of The Undead King \n",
            "Cultivation Record Of The Undead King \n",
            "Cultivation Record Of The Undead King \n",
            "Cultivation Record Of The Undead King \n",
            "Cultivation Record Of The Undead King \n",
            "Cultivation Record Of The Undead King \n",
            "Cultivation Record Of The Undead King \n",
            "The Nine Heaven Of Martial Arts \n",
            "Nine Years Obligation Cultivate \n",
            "The Superb Captain In The City \n",
            "Heaven Defying Sword \n",
            "Micah The Blade \n",
            "Spirit Sword Sovereign \n",
            "My Beautiful Time With You \n",
            "My Beautiful Time With You \n",
            "My Beautiful Time With You \n",
            "My Beautiful Time With You \n",
            "My Beautiful Time With You \n",
            "Legend Of Phoenix \n",
            "Night Bookstore "
          ]
        },
        {
          "output_type": "stream",
          "name": "stderr",
          "text": [
            " 57%|█████▋    | 1142/2000 [00:11<00:08, 99.33it/s]"
          ]
        },
        {
          "output_type": "stream",
          "name": "stdout",
          "text": [
            "\n",
            "Spare Me Great Lord \n",
            "Versatile Mage \n",
            "Versatile Mage \n",
            "Super Keyboard Man \n",
            "The Blood Princess And The Knight \n",
            "The Blood Princess And The Knight \n",
            "Save The World Uncle \n",
            "The Reincarnated Inferior Magic Swordsman \n",
            "Revenge Movie Queen \n",
            "Invincible Sword Domain \n",
            "City Of Heaven Time Stamp \n",
            "Martial Peak \n",
            "Martial Peak \n",
            "Immortal Swordsman In The Reverse World \n",
            "I Am Daxianzun \n",
            "I Am Daxianzun \n",
            "I Am Daxianzun \n",
            "I Am Daxianzun \n",
            "I Am Daxianzun \n",
            "God Of Martial Arts \n",
            "Kusuriya No Hitorigoto \n",
            "Iron Ladies \n"
          ]
        },
        {
          "output_type": "stream",
          "name": "stderr",
          "text": [
            " 58%|█████▊    | 1164/2000 [00:11<00:08, 100.33it/s]"
          ]
        },
        {
          "output_type": "stream",
          "name": "stdout",
          "text": [
            "Arasa Dakedo Hatsukoi Desu \n",
            "Arasa Dakedo Hatsukoi Desu \n",
            "Kono Oto Tomare \n",
            "Kono Oto Tomare \n",
            "Kono Oto Tomare \n",
            "Unmei Wo Shinjinai Kare Ga Iuniwa \n",
            "King Killer Reborn \n",
            "Ascension To Godhood By Slaying Demons \n",
            "Night Bookstore \n",
            "Medical Martial Arts \n",
            "Post Apocalyptic Dispatch Company \n",
            "Post Apocalyptic Dispatch Company \n",
            "Negawakuba No Konote Ni Koufuku O \n",
            "Eden Zero \n",
            "Otome Game No Hametsu Flag Shika Nai Akuyaku Reijou Ni Tensei Shite Shimatta \n",
            "Peerless Soul \n",
            "Phantom Seer \n",
            "Kaichou Wa Maid Sama \n",
            "Kou 1 Desu Ga Isekai De Joushu Hajimemashita \n",
            "The Strongest Peach Blossom \n",
            "Hazure Skill Mapping Wo Te Ni Shita Shonen Ha Saikyou Party To Dungeon Ni Idomu \n",
            "Kusuriya No Hitorigoto \n"
          ]
        },
        {
          "output_type": "stream",
          "name": "stderr",
          "text": [
            " 59%|█████▉    | 1185/2000 [00:12<00:08, 95.81it/s]"
          ]
        },
        {
          "output_type": "stream",
          "name": "stdout",
          "text": [
            "Skeleton Soldier Couldnt Protect The Dungeon \n",
            "Mannen D Rank No Chuunen Boukensha Yotta Ikioi De Densetsu No Ken Wo Hikkonuku \n",
            "Nageki No Bourei Wa Intai Shitai Saijiyaku Hanta Ni Yoru Saikiyou Patei Ikusei Jutsu \n",
            "Trigger \n",
            "Fairy Tail 100 Years Quest \n",
            "King Account At The Start It Starts With A Kingpin Account \n",
            "King Account At The Start It Starts With A Kingpin Account \n",
            "King Account At The Start It Starts With A Kingpin Account \n",
            "King Account At The Start It Starts With A Kingpin Account \n",
            "King Account At The Start It Starts With A Kingpin Account \n",
            "King Account At The Start It Starts With A Kingpin Account \n",
            "King Account At The Start It Starts With A Kingpin Account \n",
            "King Account At The Start It Starts With A Kingpin Account \n",
            "King Account At The Start It Starts With A Kingpin Account \n",
            "King Account At The Start It Starts With A Kingpin Account \n",
            "King Account At The Start It Starts With A Kingpin Account \n",
            "King Account At The Start It Starts With A Kingpin Account \n",
            "King Account At The Start It Starts With A Kingpin Account \n",
            "King Account At The Start It Starts With A Kingpin Account \n",
            "King Account At The Start \n"
          ]
        },
        {
          "output_type": "stream",
          "name": "stderr",
          "text": [
            " 60%|██████    | 1205/2000 [00:12<00:08, 93.61it/s]"
          ]
        },
        {
          "output_type": "stream",
          "name": "stdout",
          "text": [
            "King Account At The Start \n",
            "King Account At The Start \n",
            "King Account At The Start \n",
            "King Account At The Start \n",
            "King Account At The Start \n",
            "Legend Of Immortals \n",
            "Im Alone In The Novel \n",
            "Nido Tensei Shita Shounen Wa S Rank Boukensha Toshite Heion Ni Sugosu \n",
            "Limit Breaker \n",
            "Sweet Heart Of Girl \n",
            "Sweet Heart Of Girl \n",
            "Sweet Heart Of Girl \n",
            "Sweet Heart Of Girl \n",
            "Hachinan Tte Sore Wa Nai Deshou \n",
            "Akb49 \n",
            "Kanojo Okarishimasu \n",
            "Chikan Saresou Ni Natteiru S Kyuu Bishoujo Wo Tasuketara Tonari No Seki No Osanajimi Datta \n",
            "Bandai Kaname Wa Asobitai \n",
            "Ester De Valonia \n"
          ]
        },
        {
          "output_type": "stream",
          "name": "stderr",
          "text": [
            " 61%|██████▏   | 1226/2000 [00:12<00:08, 95.40it/s]"
          ]
        },
        {
          "output_type": "stream",
          "name": "stdout",
          "text": [
            "Ester De Valonia \n",
            "Battle Frenzy \n",
            "Ceos Sudden Proposal \n",
            "Ceos Sudden Proposal \n",
            "Demi Gods And Semi Devils \n",
            "Demon Spirit Seed Manual \n",
            "Demonic Housekeeper \n",
            "Demonic Housekeeper \n",
            "I Have Twin Girlfriends \n",
            "I Have Twin Girlfriends \n",
            "I Have Twin Girlfriends \n",
            "I Have Twin Girlfriends \n",
            "I Have Twin Girlfriends \n",
            "I Have Twin Girlfriends \n",
            "I Have Twin Girlfriends \n",
            "I Have Twin Girlfriends \n",
            "I Have Twin Girlfriends \n",
            "I Have Twin Girlfriends \n",
            "I Have Twin Girlfriends \n",
            "I Have Twin Girlfriends \n"
          ]
        },
        {
          "output_type": "stream",
          "name": "stderr",
          "text": [
            " 62%|██████▏   | 1247/2000 [00:12<00:07, 98.75it/s]"
          ]
        },
        {
          "output_type": "stream",
          "name": "stdout",
          "text": [
            "Talented Genius \n",
            "Talented Genius \n",
            "Talented Genius \n",
            "Talented Genius \n",
            "Talented Genius \n",
            "Talented Genius \n",
            "Talented Genius \n",
            "My Harem Depend On Drawing \n",
            "Legend Of The Northern Blade \n",
            "Against The Gods \n",
            "1 Nen A Gumi No Monster \n",
            "Collecting The Divine \n",
            "Night Bookstore \n",
            "Urban Legend Investigation Team \n",
            "Shura Sword Sovereign \n",
            "Rebirth I Am The Great God \n",
            "Yankee Wa Isekai De Seirei Ni Aisaremasu \n",
            "Tokyo%E5%8D%8Drevengers \n",
            "Re Monster \n",
            "Highest Level Returnee Max Level Returner \n",
            "Rettou Me No Tensei Majutsushi Shiitage Rareta Moto Yuusha Wa Mirai No Sekai O Yoyuu De Ikinuku \n",
            "Heaven Defying Sword \n"
          ]
        },
        {
          "output_type": "stream",
          "name": "stderr",
          "text": [
            " 63%|██████▎   | 1269/2000 [00:13<00:07, 99.57it/s]"
          ]
        },
        {
          "output_type": "stream",
          "name": "stdout",
          "text": [
            "Micah The Blade \n",
            "My Beautiful Time With You \n",
            "My Beautiful Time With You \n",
            "My Beautiful Time With You \n",
            "My Beautiful Time With You \n",
            "My Beautiful Time With You \n",
            "Apotheosis \n",
            "Spare Me Great Lord \n",
            "Versatile Mage \n",
            "Versatile Mage \n",
            "Super Keyboard Man \n",
            "The Blood Princess And The Knight \n",
            "The Blood Princess And The Knight \n",
            "Yuan Zun \n",
            "Yuan Zun \n",
            "History Strongest Disciple Kenichi \n",
            "History Strongest Disciple Kenichi \n",
            "Ninkyou Tensei Isekai No Yakuzahime \n",
            "Martial Peak \n",
            "Martial Peak \n",
            "Metropolitan Supremacy System \n"
          ]
        },
        {
          "output_type": "stream",
          "name": "stderr",
          "text": [
            " 64%|██████▍   | 1289/2000 [00:13<00:07, 98.27it/s]"
          ]
        },
        {
          "output_type": "stream",
          "name": "stdout",
          "text": [
            "Release That Witch \n",
            "Star Martial God Technique \n",
            "I Am Daxianzun \n",
            "I Am Daxianzun \n",
            "I Am Daxianzun \n",
            "I Am Daxianzun \n",
            "I Am Daxianzun \n",
            "Martial Master \n",
            "Martial Master \n",
            "Rebirth Of The Urban Immortal Cultivator \n",
            "Please Go Home Akutsu San \n",
            "Please Go Home Akutsu San \n",
            "Metropolitan Citys Ying Yang Miracle Doctor \n",
            "Journey To The West Zheng Jian He \n",
            "The Nine Heaven Of Martial Arts \n",
            "Nanatsu No Taizai \n",
            "Nanatsu No Taizai \n",
            "Nanatsu No Taizai \n",
            "Nanatsu No Taizai \n",
            "Nanatsu No Taizai \n",
            "Nanatsu No Taizai \n"
          ]
        },
        {
          "output_type": "stream",
          "name": "stderr",
          "text": [
            " 66%|██████▌   | 1311/2000 [00:13<00:06, 102.17it/s]"
          ]
        },
        {
          "output_type": "stream",
          "name": "stdout",
          "text": [
            "Nanatsu No Taizai \n",
            "Nanatsu No Taizai \n",
            "Nanatsu No Taizai \n",
            "Nanatsu No Taizai \n",
            "Nanatsu No Taizai \n",
            "Nanatsu No Taizai \n",
            "Nanatsu No Taizai \n",
            "Nanatsu No Taizai \n",
            "Nanatsu No Taizai \n",
            "Nanatsu No Taizai \n",
            "Nanatsu No Taizai \n",
            "Nanatsu No Taizai \n",
            "Arasa Dakedo Hatsukoi Desu \n",
            "Arasa Dakedo Hatsukoi Desu \n",
            "Arasa Dakedo Hatsukoi Desu \n",
            "Ascension To Godhood By Slaying Demons \n",
            "Leviathan \n",
            "Leviathan \n",
            "Leviathan \n",
            "Leviathan \n",
            "Leviathan \n",
            "Leviathan \n"
          ]
        },
        {
          "output_type": "stream",
          "name": "stderr",
          "text": [
            " 67%|██████▋   | 1332/2000 [00:13<00:06, 96.82it/s]"
          ]
        },
        {
          "output_type": "stream",
          "name": "stdout",
          "text": [
            "Kanzen Kaihi Healer No Kiseki \n",
            "Kaguya Sama Wa Kokurasetai Tensai Tachi No Renai Zunousen \n",
            "World Teacher Isekaishiki Kyouiku Agent \n",
            "World Teacher Isekaishiki Kyouiku Agent \n",
            "The Last Human \n",
            "Tonikaku Kawaii \n",
            "Tensei Shitara Dai Nana Ouji Dattanode \n",
            "Dushi Xiewang \n",
            "Dushi Xiewang \n",
            "Leviathan \n",
            "Leviathan \n",
            "Maou Gakuin No Futekigousha \n",
            "Hachinan Tte Sore Wa Nai Deshou \n",
            "Wizard Of Arsenia \n",
            "Strongest Leveling \n",
            "Shura Sword Sovereign \n",
            "Night Bookstore \n",
            "Manuke Na Fps Player Ga Isekai E Ochita Baai \n",
            "Hige Wo Soru Soshite Joshikosei Wo Hirou \n"
          ]
        },
        {
          "output_type": "stream",
          "name": "stderr",
          "text": [
            " 68%|██████▊   | 1353/2000 [00:13<00:06, 100.02it/s]"
          ]
        },
        {
          "output_type": "stream",
          "name": "stdout",
          "text": [
            "The Villainess Will Crush Her Destruction End Through Modern Firepower \n",
            "Gosu \n",
            "Shikkakumon No Saikyou Kenja \n",
            "Please Go Home Akutsu San \n",
            "Peerless Soul \n",
            "Escape From The Poverty By Catching Golem \n",
            "Strongest Evolution Of Zombie \n",
            "Soul Land 2 \n",
            "My Wife Is A Demon Queen \n",
            "Soul Land \n",
            "Fantasy Online \n",
            "Super School Doctor \n",
            "Medical Martial Arts \n",
            "I Am A God Alone \n",
            "Rebirth Abandoned Less Return \n",
            "The First Son In Law Vanguard Of All Time \n",
            "God Of War Dragon Son In Law \n",
            "Shounen Chotto Sabotteko \n",
            "Blue Lock \n",
            "Himegasaki Sakurako Wa Kyoumo Fubin Kawaii \n",
            "Himegasaki Sakurako Wa Kyoumo Fubin Kawaii \n"
          ]
        },
        {
          "output_type": "stream",
          "name": "stderr",
          "text": [
            " 69%|██████▊   | 1374/2000 [00:14<00:06, 97.45it/s]"
          ]
        },
        {
          "output_type": "stream",
          "name": "stdout",
          "text": [
            "Against The Gods \n",
            "The Gamer \n",
            "The Wife Contract And My Daughters Nanny \n",
            "The Wife Contract And My Daughters Nanny \n",
            "The High Energy Attack \n",
            "The High Energy Attack \n",
            "The High Energy Attack \n",
            "The High Energy Attack \n",
            "The High Energy Attack \n",
            "The High Energy Attack \n",
            "The High Energy Attack \n",
            "Battle Frenzy \n",
            "Ceos Sudden Proposal \n",
            "Ceos Sudden Proposal \n",
            "Demon Spirit Seed Manual \n",
            "Demonic Housekeeper \n",
            "Demonic Housekeeper \n",
            "Demi Gods And Semi Devils \n",
            "Gold System \n",
            "Tokyo%E5%8D%8Drevengers \n",
            "Kill The Hero \n",
            "Heaven Defying Sword "
          ]
        },
        {
          "output_type": "stream",
          "name": "stderr",
          "text": [
            " 70%|██████▉   | 1396/2000 [00:14<00:05, 101.38it/s]"
          ]
        },
        {
          "output_type": "stream",
          "name": "stdout",
          "text": [
            "\n",
            "Micah The Blade \n",
            "My Beautiful Time With You \n",
            "My Beautiful Time With You \n",
            "My Beautiful Time With You \n",
            "My Beautiful Time With You \n",
            "My Beautiful Time With You \n",
            "Take Your Mommy Home \n",
            "Take Your Mommy Home \n",
            "One Thousand Live Broadcast Big Local Tyrant \n",
            "One Piece \n",
            "First Rate Master \n",
            "My Harem Grew So Large I Was Forced To Ascend \n",
            "Spare Me Great Lord \n",
            "Versatile Mage \n",
            "Versatile Mage \n",
            "Super Keyboard Man \n",
            "The Blood Princess And The Knight \n",
            "The Blood Princess And The Knight \n",
            "Martial Peak \n",
            "Martial Peak \n",
            "Virtual World Close Combat Mage \n",
            "The Ghostly Doctor \n"
          ]
        },
        {
          "output_type": "stream",
          "name": "stderr",
          "text": [
            " 71%|███████   | 1419/2000 [00:14<00:05, 106.50it/s]"
          ]
        },
        {
          "output_type": "stream",
          "name": "stdout",
          "text": [
            "The Demon King Who Lost His Job \n",
            "Strongest Leveling \n",
            "City Of Heaven Time Stamp \n",
            "Rebirth I Am The Great God \n",
            "Ascension To Godhood By Slaying Demons \n",
            "Peerless Sword God \n",
            "Peerless Sword God \n",
            "Peerless Sword God \n",
            "Peerless Sword God \n",
            "Ultimate King Of Mixed City \n",
            "Ultimate King Of Mixed City \n",
            "Ultimate King Of Mixed City \n",
            "Ultimate King Of Mixed City \n",
            "Ultimate King Of Mixed City \n",
            "Ultimate King Of Mixed City \n",
            "The God Of High School \n",
            "Gosu \n",
            "Isekai Tensei No Boukensha \n",
            "Living In This World With Cut Paste \n",
            "Soul Land 2 \n",
            "My Wife Is A Demon Queen \n",
            "Yong Heng Zhi Zun \n",
            "Mom Please Dont Come Adventuring With Me \n"
          ]
        },
        {
          "output_type": "stream",
          "name": "stderr",
          "text": [
            " 72%|███████▏  | 1443/2000 [00:14<00:05, 108.47it/s]"
          ]
        },
        {
          "output_type": "stream",
          "name": "stdout",
          "text": [
            "Tensei Shitara Slime Datta Ken \n",
            "Peerless Soul \n",
            "Oda Nobunaga To Iu Nazo No Shokugyo Ga Mahou Kenshi Yori Cheat Dattanode Oukoku Wo Tsukuru Koto Ni Shimashita \n",
            "Please Go Home Akutsu San \n",
            "8Kaijuu \n",
            "Medical Martial Arts \n",
            "The Rest Of My Life On The Desert Island \n",
            "I Am An Invincible Genius \n",
            "The Live \n",
            "After Transformation Mine And Her Wild Fantasy \n",
            "Ultimate King Of Mixed City \n",
            "Ultimate King Of Mixed City \n",
            "Futari Ashitamo Sorenarini \n",
            "Rooftop Sword Master \n",
            "Hitoribocchi No Isekai Kouryaku \n",
            "Akb49 \n",
            "A Breakthrough Brought By Forbidden Master And Disciple \n",
            "Fff Class Trashero \n",
            "Tomodachi Game \n",
            "God Fisherman \n",
            "Ooparts \n",
            "Taberu Dake De Level Up Damegami To Issho Ni Isekai Musou \n",
            "Useless First Son In Law \n",
            "Strongest Divine Doctor Mixed City \n"
          ]
        },
        {
          "output_type": "stream",
          "name": "stderr",
          "text": [
            " 73%|███████▎  | 1465/2000 [00:14<00:04, 107.47it/s]"
          ]
        },
        {
          "output_type": "stream",
          "name": "stdout",
          "text": [
            "Night Bookstore \n",
            "Against The Gods \n",
            "Chao Hua Armor Awakening \n",
            "Chao Hua Armor Awakening \n",
            "The Duke Of Death And His Black Maid \n",
            "Go Toubun No Hanayome \n",
            "Shijou Saikyou Orc San No Tanoshii Tanetsuke Harem Zukuri \n",
            "Kuma Kuma Kuma Bear \n",
            "Cultivation Return On Campus \n",
            "Return The Demon Goddess \n",
            "Battle Frenzy \n",
            "Ceos Sudden Proposal \n",
            "Ceos Sudden Proposal \n",
            "Demon Spirit Seed Manual \n",
            "Demonic Housekeeper \n",
            "Demonic Housekeeper \n",
            "Heaven Defying Sword \n",
            "Legend Of Phoenix \n",
            "Boku No Namae Wa Shounen A \n",
            "Ultimate King Of Mixed City \n",
            "Shura Sword Sovereign \n",
            "Kubo San Wa Boku Mobu Wo Yurusanai \n"
          ]
        },
        {
          "output_type": "stream",
          "name": "stderr",
          "text": [
            " 74%|███████▍  | 1487/2000 [00:15<00:05, 102.18it/s]"
          ]
        },
        {
          "output_type": "stream",
          "name": "stdout",
          "text": [
            "Tensei Kizoku No Isekai Boukenroku Jichou Wo Shiranai Kamigami No Shit \n",
            "Micah The Blade \n",
            "Spare Me Great Lord \n",
            "Versatile Mage \n",
            "Versatile Mage \n",
            "Super Keyboard Man \n",
            "The Blood Princess And The Knight \n",
            "The Blood Princess And The Knight \n",
            "Save The World Uncle \n",
            "Celestial Jailer \n",
            "Celestial Jailer \n",
            "Celestial Jailer \n",
            "Celestial Jailer \n",
            "Master Of Legendary Realms \n",
            "Master Of Legendary Realms \n",
            "Master Of Legendary Realms \n",
            "Master Of Legendary Realms \n",
            "Master Of Legendary Realms \n",
            "Martial Peak \n",
            "Martial Peak \n",
            "Apotheosis \n",
            "Tokyo%E5%8D%8Drevengers \n"
          ]
        },
        {
          "output_type": "stream",
          "name": "stderr",
          "text": [
            " 75%|███████▌  | 1509/2000 [00:15<00:04, 101.74it/s]"
          ]
        },
        {
          "output_type": "stream",
          "name": "stdout",
          "text": [
            "First Rate Master \n",
            "Immortal Swordsman In The Reverse World \n",
            "The Rebirth Of The Demon God \n",
            "The Rebirth Of The Demon God \n",
            "Peerless Sword God \n",
            "Peerless Sword God \n",
            "Peerless Sword God \n",
            "Peerless Sword God \n",
            "Peerless Sword God \n",
            "Peerless Sword God \n",
            "Peerless Sword God \n",
            "I Took Attributes In The Last Days \n",
            "I Took Attributes In The Last Days \n",
            "Shuumatsu No Valkyrie \n",
            "Pregnant Wife One Plus One \n",
            "Tales Of Demons And Gods \n",
            "Metropolitan Citys Ying Yang Miracle Doctor \n",
            "Rebirth Of The Urban Immortal Cultivator \n",
            "Taming Master \n",
            "Black Clover \n",
            "Martial God Asura \n"
          ]
        },
        {
          "output_type": "stream",
          "name": "stderr",
          "text": [
            "\r 76%|███████▌  | 1520/2000 [00:15<00:04, 100.76it/s]"
          ]
        },
        {
          "output_type": "stream",
          "name": "stdout",
          "text": [
            "Super School Doctor \n",
            "Strongest Leveling \n",
            "Crazy Professor System \n",
            "Crazy Professor System \n",
            "Peerless Little Doctor \n",
            "Peerless Little Doctor \n",
            "Peerless Little Doctor \n",
            "I Am Not A Goddess \n",
            "Ascension To Godhood By Slaying Demons \n",
            "Tensei Shitara Ken Deshita \n",
            "Dushi Xiewang \n",
            "Dushi Xiewang \n",
            "Dushi Xiewang \n",
            "Dushi Xiewang \n",
            "Dushi Xiewang \n",
            "Isekai Mahou Wa Okureteru \n",
            "Reborn Of War God \n",
            "Reborn Of War God \n",
            "Reborn Of War God \n",
            "Reborn Of War God \n",
            "Reborn Of War God \n"
          ]
        },
        {
          "output_type": "stream",
          "name": "stderr",
          "text": [
            " 77%|███████▋  | 1542/2000 [00:15<00:04, 100.96it/s]"
          ]
        },
        {
          "output_type": "stream",
          "name": "stdout",
          "text": [
            "Reborn Of War God \n",
            "Reborn Of War God \n",
            "Reborn Of War God \n",
            "Reborn Of War God \n",
            "Reborn Of War God \n",
            "Goblin Slayer \n",
            "Strongest Anti M E T A \n",
            "Strongest Anti M E T A \n",
            "Blue Lock \n",
            "Blue Lock \n",
            "Blue Lock \n",
            "Blue Lock \n",
            "Blue Lock \n",
            "Blue Lock \n",
            "Blue Lock \n",
            "Boku No Hero Academia \n",
            "Boku No Hero Academia \n",
            "First Rate Master \n",
            "Otome Game No Hametsu Flag Shika Nai Akuyaku Reijou Ni Tensei Shite Shimatta \n",
            "Shounin Yuusha Wa Isekai O Gyuujiru Saibai Skill De Nandemo Fuyashi Chaimasu \n",
            "I Wont Marry The Enemy Prince \n",
            "Mezametara Saikyou Soubi To Uchuusen Mochi Datta No De \n"
          ]
        },
        {
          "output_type": "stream",
          "name": "stderr",
          "text": [
            " 78%|███████▊  | 1565/2000 [00:15<00:04, 107.13it/s]"
          ]
        },
        {
          "output_type": "stream",
          "name": "stdout",
          "text": [
            "Rebirth Of The Earth Immortal Venerable \n",
            "Nageki No Bourei Wa Intai Shitai Saijiyaku Hanta Ni Yoru Saikiyou Patei Ikusei Jutsu \n",
            "Useless First Son In Law \n",
            "Gosu \n",
            "End Of The World 2028 \n",
            "End Of The World 2028 \n",
            "End Of The World 2028 \n",
            "End Of The World 2028 \n",
            "End Of The World 2028 \n",
            "End Of The World 2028 \n",
            "End Of The World 2028 \n",
            "End Of The World 2028 \n",
            "End Of The World 2028 \n",
            "End Of The World 2028 \n",
            "Monster Kingdom \n",
            "Monster Kingdom \n",
            "Monster Kingdom \n",
            "Monster Kingdom \n",
            "Monster Kingdom \n",
            "Monster Kingdom \n",
            "Monster Kingdom \n",
            "Monster Kingdom \n",
            "Monster Kingdom \n"
          ]
        },
        {
          "output_type": "stream",
          "name": "stderr",
          "text": [
            " 80%|███████▉  | 1598/2000 [00:16<00:03, 104.41it/s]"
          ]
        },
        {
          "output_type": "stream",
          "name": "stdout",
          "text": [
            "Monster Kingdom \n",
            "The Blade Of Evolution \n",
            "Save A Big Demon \n",
            "Save A Big Demon \n",
            "Save A Big Demon \n",
            "Save A Big Demon \n",
            "Save A Big Demon \n",
            "Kimi Wa Meido Sama \n",
            "Kimi Wa Meido Sama \n",
            "Kimi Wa Meido Sama \n",
            "Kimi Wa Meido Sama \n",
            "Kimi Wa Meido Sama \n",
            "Kimi Wa Meido Sama \n",
            "Kimi Wa Meido Sama \n",
            "Kimi Wa Meido Sama \n",
            "Kimi Wa Meido Sama \n",
            "Kimi Wa Meido Sama \n",
            "Kimi Wa Meido Sama \n",
            "Kimi Wa Meido Sama \n",
            "Kimi Wa Meido Sama \n",
            "Ten Thousand Paths To Becoming A God \n",
            "Ten Thousand Paths To Becoming A God \n",
            "Daddy From Hell \n"
          ]
        },
        {
          "output_type": "stream",
          "name": "stderr",
          "text": [
            "\r 80%|████████  | 1609/2000 [00:16<00:03, 104.25it/s]"
          ]
        },
        {
          "output_type": "stream",
          "name": "stdout",
          "text": [
            "Magic Emperor \n",
            "My Exclusive Dream World Adventures \n",
            "My Exclusive Dream World Adventures \n",
            "My Exclusive Dream World Adventures \n",
            "My Exclusive Dream World Adventures \n",
            "My Exclusive Dream World Adventures \n",
            "My Exclusive Dream World Adventures \n",
            "Best Son In Law \n",
            "Cultivation Record Of The Undead King \n",
            "Cultivation Record Of The Undead King \n",
            "Cultivation Record Of The Undead King \n",
            "Cultivation Record Of The Undead King \n",
            "The Wife Contract And My Daughters Nanny \n",
            "The Wife Contract And My Daughters Nanny \n",
            "Beautys Close Coach \n",
            "Medical Martial Arts \n",
            "Night Bookstore \n",
            "Isekai Nonbiri Nouka \n",
            "Yofukashi No Uta \n",
            "Yofukashi No Uta \n",
            "Bandai Kaname Wa Asobitai \n"
          ]
        },
        {
          "output_type": "stream",
          "name": "stderr",
          "text": [
            " 82%|████████▏ | 1631/2000 [00:16<00:03, 99.27it/s] "
          ]
        },
        {
          "output_type": "stream",
          "name": "stdout",
          "text": [
            "Kou 2 Ni Time Leaped Shita Ore Ga Touji Suki Datta Sensei Ni Kokutta Kekka \n",
            "Stepping Through The Fairy River \n",
            "Stepping Through The Fairy River \n",
            "Stepping Through The Fairy River \n",
            "Stepping Through The Fairy River \n",
            "Stepping Through The Fairy River \n",
            "Stepping Through The Fairy River \n",
            "Stepping Through The Fairy River \n",
            "Stepping Through The Fairy River \n",
            "Stepping Through The Fairy River \n",
            "Stepping Through The Fairy River \n",
            "Stepping Through The Fairy River \n",
            "Stepping Through The Fairy River \n",
            "Stepping Through The Fairy River \n",
            "Stepping Through The Fairy River \n",
            "Stepping Through The Fairy River \n",
            "Stepping Through The Fairy River \n",
            "Stepping Through The Fairy River \n",
            "Stepping Through The Fairy River \n",
            "Stepping Through The Fairy River \n"
          ]
        },
        {
          "output_type": "stream",
          "name": "stderr",
          "text": [
            " 83%|████████▎ | 1652/2000 [00:16<00:03, 98.82it/s]"
          ]
        },
        {
          "output_type": "stream",
          "name": "stdout",
          "text": [
            "Stepping Through The Fairy River \n",
            "Stepping Through The Fairy River \n",
            "Stepping Through The Fairy River \n",
            "Stepping Through The Fairy River \n",
            "Stepping Through The Fairy River \n",
            "Stepping Through The Fairy River \n",
            "Magic Emperor \n",
            "Please Go Home Akutsu San \n",
            "King Account At The Start It Starts With A Kingpin Account \n",
            "Against The Gods \n",
            "Emperor Jiwu Xuan \n",
            "Emperor Jiwu Xuan \n",
            "Emperor Jiwu Xuan \n",
            "Emperor Jiwu Xuan \n",
            "Emperor Jiwu Xuan \n",
            "Psycho Revenge \n",
            "Shounen Chotto Sabotteko \n",
            "Shounen Chotto Sabotteko \n",
            "Meng Shi Zai Shang \n",
            "Meng Shi Zai Shang \n",
            "Meng Shi Zai Shang \n",
            "Meng Shi Zai Shang \n"
          ]
        },
        {
          "output_type": "stream",
          "name": "stderr",
          "text": [
            " 84%|████████▎ | 1674/2000 [00:17<00:03, 101.75it/s]"
          ]
        },
        {
          "output_type": "stream",
          "name": "stdout",
          "text": [
            "Meng Shi Zai Shang \n",
            "Meng Shi Zai Shang \n",
            "Battle Frenzy \n",
            "Ceos Sudden Proposal \n",
            "Ceos Sudden Proposal \n",
            "Collecting The Divine \n",
            "Demon Spirit Seed Manual \n",
            "Demonic Housekeeper \n",
            "Demonic Housekeeper \n",
            "The Cuckoos Fiancee \n",
            "Heaven Defying Sword \n",
            "Micah The Blade \n",
            "My Beautiful Time With You \n",
            "My Beautiful Time With You \n",
            "My Beautiful Time With You \n",
            "My Beautiful Time With You \n",
            "My Beautiful Time With You \n",
            "My Beautiful Time With You \n",
            "My Beautiful Time With You \n",
            "My Beautiful Time With You \n",
            "My Beautiful Time With You \n",
            "My Beautiful Time With You \n"
          ]
        },
        {
          "output_type": "stream",
          "name": "stderr",
          "text": [
            " 85%|████████▍ | 1696/2000 [00:17<00:03, 99.32it/s]"
          ]
        },
        {
          "output_type": "stream",
          "name": "stdout",
          "text": [
            "Tenohira Kaitaku Mura De Isekai Kenkokuki Fueteku Yome Tachi To Nonbiri Mujintou Life \n",
            "Tokyo%E5%8D%8Drevengers \n",
            "Super Keyboard Man \n",
            "The Blood Princess And The Knight \n",
            "The Blood Princess And The Knight \n",
            "Apotheosis \n",
            "Versatile Mage \n",
            "Versatile Mage \n",
            "Yuan Zun \n",
            "Yuan Zun \n",
            "Martial Peak \n",
            "Martial Peak \n",
            "Release That Witch \n",
            "Star Martial God Technique \n",
            "Hajimete No Gal \n",
            "Hajimete No Gal \n",
            "Hajimete No Gal \n",
            "Hajimete No Gal \n",
            "Hajimete No Gal \n",
            "Rebirth I Am The Great God \n",
            "I Am Daxianzun \n",
            "Battle Through The Heavens \n"
          ]
        },
        {
          "output_type": "stream",
          "name": "stderr",
          "text": [
            " 86%|████████▌ | 1719/2000 [00:17<00:02, 106.18it/s]"
          ]
        },
        {
          "output_type": "stream",
          "name": "stdout",
          "text": [
            "Busou Shoujo Machiavellianism \n",
            "Im An Evil God \n",
            "Martial God Asura \n",
            "Tale Of A Scribe Who Retires To The Countryside \n",
            "Yin Zhi Shoumuren Silver Gravekeeper \n",
            "Yin Zhi Shoumuren Silver Gravekeeper \n",
            "Kage No Jitsuryokusha Ni Naritakute \n",
            "The Former Structural Researchers Story Of Otherworldly Adventure \n",
            "School Zone Ningiyau \n",
            "School Zone Ningiyau \n",
            "School Zone Ningiyau \n",
            "Arasa Dakedo Hatsukoi Desu \n",
            "Arasa Dakedo Hatsukoi Desu \n",
            "Arasa Dakedo Hatsukoi Desu \n",
            "Arasa Dakedo Hatsukoi Desu \n",
            "Shen Haos Heavenly Fall System \n",
            "Shen Haos Heavenly Fall System \n",
            "Shen Haos Heavenly Fall System \n",
            "Kingdom \n",
            "Reborn Of War God \n",
            "Reborn Of War God \n",
            "Reborn Of War God \n",
            "Reborn Of War God \n",
            "Reborn Of War God \n",
            "Reborn Of War God \n",
            "Stepping Through The Fairy River \n"
          ]
        },
        {
          "output_type": "stream",
          "name": "stderr",
          "text": [
            " 87%|████████▋ | 1744/2000 [00:17<00:02, 105.87it/s]"
          ]
        },
        {
          "output_type": "stream",
          "name": "stdout",
          "text": [
            "Reborn Of War God \n",
            "Reborn Of War God \n",
            "Reborn Of War God \n",
            "Reborn Of War God \n",
            "The First Son In Law Vanguard Of All Time \n",
            "Rebirth After 80 000 Years Passed \n",
            "Full Level Peach Blossom Acupuncturist \n",
            "Murabito Desu Ga Nani Ka \n",
            "Seirei Tachi No Rakuen To Risou No Isekai Seikatsu \n",
            "To Be The Castellan King \n",
            "Shirokuma Tensei \n",
            "Wang Gu Shen Wang \n",
            "The Master Of Knife \n",
            "End Of The World 2028 \n",
            "The Undead Lord Of The Palace Of Darkness \n",
            "Soul Land Iv The Ultimate Combat \n",
            "Nanatsu No Maken Ga Shihai Suru \n",
            "Akame Ga Kill Zero \n",
            "Akame Ga Kill Zero \n",
            "A Returners Magic Should Be Special \n",
            "Medical Martial Arts \n"
          ]
        },
        {
          "output_type": "stream",
          "name": "stderr",
          "text": [
            " 88%|████████▊ | 1766/2000 [00:17<00:02, 103.46it/s]"
          ]
        },
        {
          "output_type": "stream",
          "name": "stdout",
          "text": [
            "My Exclusive Dream World Adventures \n",
            "The Rest Of My Life On The Desert Island \n",
            "Medical Return \n",
            "Against The Gods \n",
            "I Wont Marry The Enemy Prince \n",
            "Villain Demon Son In Law \n",
            "Villain Demon Son In Law \n",
            "Villain Demon Son In Law \n",
            "Villain Demon Son In Law \n",
            "I Am Not A Son Of Doom \n",
            "Shuumatsu No Valkyrie \n",
            "Shuumatsu No Valkyrie \n",
            "The Villain \n",
            "Kou 2 Ni Time Leaped Shita Ore Ga Touji Suki Datta Sensei Ni Kokutta Kekka \n",
            "Gosu \n",
            "Buta Koushaku Ni Tensei Shitakara Kondo Wa Kimi Ni Suki To Iitai \n",
            "Saikyou No Shuzoku Ga Ningen Datta Ken \n",
            "Ima Made Ichido Mo Onna Atsukaisareta Koto Ga Nai Onna Kishi Wo Onna Atsukai Suru \n",
            "The General Is Up \n",
            "The General Is Up \n",
            "The General Is Up \n"
          ]
        },
        {
          "output_type": "stream",
          "name": "stderr",
          "text": [
            " 89%|████████▉ | 1788/2000 [00:18<00:02, 102.92it/s]"
          ]
        },
        {
          "output_type": "stream",
          "name": "stdout",
          "text": [
            "The General Is Up \n",
            "The General Is Up \n",
            "The General Is Up \n",
            "The General Is Up \n",
            "The General Is Up \n",
            "The General Is Up \n",
            "The General Is Up \n",
            "The General Is Up \n",
            "The General Is Up \n",
            "The General Is Up \n",
            "The General Is Up \n",
            "The General Is Up \n",
            "The General Is Up \n",
            "My Son In Law \n",
            "My Son In Law \n",
            "My Son In Law \n",
            "The Girl From Random Chatting \n",
            "Oshi No Ko \n",
            "Vampire Cross \n",
            "Vampire Cross \n",
            "Vampire Cross \n",
            "Vampire Cross \n",
            "Vampire Cross \n"
          ]
        },
        {
          "output_type": "stream",
          "name": "stderr",
          "text": [
            " 90%|█████████ | 1810/2000 [00:18<00:01, 99.44it/s] "
          ]
        },
        {
          "output_type": "stream",
          "name": "stdout",
          "text": [
            "Vampire Cross \n",
            "Vampire Cross \n",
            "Vampire Cross \n",
            "Vampire Cross \n",
            "Vampire Cross \n",
            "Vampire Cross \n",
            "Vampire Cross \n",
            "Vampire Cross \n",
            "Vampire Cross \n",
            "Vampire Cross \n",
            "Vampire Cross \n",
            "Vampire Cross \n",
            "Vampire Cross \n",
            "Vampire Cross \n",
            "Vampire Cross \n",
            "Vampire Cross \n",
            "Vampire Cross \n",
            "Vampire Cross \n",
            "Vampire Cross \n",
            "Vampire Cross \n",
            "Vampire Cross \n"
          ]
        },
        {
          "output_type": "stream",
          "name": "stderr",
          "text": [
            " 92%|█████████▏| 1830/2000 [00:18<00:01, 97.65it/s]"
          ]
        },
        {
          "output_type": "stream",
          "name": "stdout",
          "text": [
            "Vampire Cross \n",
            "Vampire Cross \n",
            "Highest Level Returnee Max Level Returner \n",
            "Night Bookstore \n",
            "Journey To The West Zheng Jian He \n",
            "Battle Frenzy \n",
            "Demon Spirit Seed Manual \n",
            "Ceos Sudden Proposal \n",
            "Ceos Sudden Proposal \n",
            "Demonic Housekeeper \n",
            "Demonic Housekeeper \n",
            "Gold System \n",
            "Heaven Defying Sword \n",
            "Tokyo%E5%8D%8Drevengers \n",
            "Get Life \n",
            "Jingai Hime Sama Hajimemashita Free Life Fantasy \n",
            "Micah The Blade \n",
            "My Beautiful Time With You \n",
            "My Beautiful Time With You \n",
            "My Beautiful Time With You \n"
          ]
        },
        {
          "output_type": "stream",
          "name": "stderr",
          "text": [
            " 92%|█████████▎| 1850/2000 [00:18<00:01, 95.72it/s]"
          ]
        },
        {
          "output_type": "stream",
          "name": "stdout",
          "text": [
            "My Beautiful Time With You \n",
            "My Beautiful Time With You \n",
            "Super Keyboard Man \n",
            "The Blood Princess And The Knight \n",
            "The Blood Princess And The Knight \n",
            "God Of Martial Arts \n",
            "The Nine Heaven Of Martial Arts \n",
            "Versatile Mage \n",
            "Versatile Mage \n",
            "Yuan Zun \n",
            "Yuan Zun \n",
            "Komi San Wa Komyushou Desu \n",
            "Martial Peak \n",
            "Martial Peak \n",
            "Shikkakumon No Saikyou Kenja \n",
            "Take Your Mommy Home \n",
            "Take Your Mommy Home \n",
            "Takarakuji De 40 Oku Atatta N Dakedo Isekai Ni Ijuusuru \n",
            "Virtual World Close Combat Mage \n",
            "Iron Ladies \n",
            "Strongest Divine Doctor Mixed City \n",
            "Martial God Asura \n"
          ]
        },
        {
          "output_type": "stream",
          "name": "stderr",
          "text": [
            " 94%|█████████▎| 1873/2000 [00:18<00:01, 102.93it/s]"
          ]
        },
        {
          "output_type": "stream",
          "name": "stdout",
          "text": [
            "Useless First Son In Law \n",
            "God Fisherman \n",
            "A Sword Master Childhood Friend Power Harassed Me Harshly So I Broke Off Our Relationship And Make A Fresh Start At The Frontier As A Magic Swordsman \n",
            "Mercenary Enrollment \n",
            "Koe Ga Dasenai Shoujo Wa Kanojo Ga Yasashisugiru To Omotte Iru \n",
            "Silver Demon King \n",
            "Silver Demon King \n",
            "Silver Demon King \n",
            "Silver Demon King \n",
            "Ouji Sama Nante Iranai \n",
            "Arasa Dakedo Hatsukoi Desu \n",
            "Arasa Dakedo Hatsukoi Desu \n",
            "Arasa Dakedo Hatsukoi Desu \n",
            "Arasa Dakedo Hatsukoi Desu \n",
            "Arasa Dakedo Hatsukoi Desu \n",
            "Arasa Dakedo Hatsukoi Desu \n",
            "Return To Beginning Of The Apocalypse \n",
            "Return To Beginning Of The Apocalypse \n",
            "Tensei Shitara Ken Deshita \n",
            "I Wont Marry The Enemy Prince \n",
            "Wang Gu Shen Wang \n",
            "Vampire Cross \n",
            "Demons Sword Master Of Excalibur School \n",
            "Shijou Saikyou No Mahou Kenshi F Rank Boukensha Ni Tensei Suru \n",
            "The Superb Captain In The City \n"
          ]
        },
        {
          "output_type": "stream",
          "name": "stderr",
          "text": [
            " 96%|█████████▌| 1910/2000 [00:19<00:00, 110.78it/s]"
          ]
        },
        {
          "output_type": "stream",
          "name": "stdout",
          "text": [
            "Strongest Anti M E T A \n",
            "Reincarnated As An Aristocrat With An Appraisal Skill \n",
            "Strongest Leveling \n",
            "My Exclusive Dream World Adventures \n",
            "Stepping Through The Fairy River \n",
            "Crazy Professor System \n",
            "The Master Of Knife \n",
            "The Master Of Knife \n",
            "Medical Martial Arts \n",
            "Soul Land Iv The Ultimate Combat \n",
            "Soul Land Iv The Ultimate Combat \n",
            "Soul Land Iv The Ultimate Combat \n",
            "Mannen D Rank No Chuunen Boukensha Yotta Ikioi De Densetsu No Ken Wo Hikkonuku \n",
            "Super System \n",
            "The Ghostly Doctor \n",
            "Rebirth I Am The Great God \n",
            "Shura Sword Sovereign \n",
            "God Level Takeout Man \n",
            "God Level Takeout Man \n",
            "God Level Takeout Man \n",
            "God Level Takeout Man \n",
            "The Evil Girl Is The Emperor \n",
            "The Evil Girl Is The Emperor \n",
            "The Evil Girl Is The Emperor \n",
            "Road To Heaven \n",
            "Please Go Home Akutsu San "
          ]
        },
        {
          "output_type": "stream",
          "name": "stderr",
          "text": [
            "\r 96%|█████████▌| 1922/2000 [00:19<00:00, 110.79it/s]"
          ]
        },
        {
          "output_type": "stream",
          "name": "stdout",
          "text": [
            "\n",
            "King Account At The Start It Starts With A Kingpin Account \n",
            "Soul Land Iv The Ultimate Combat \n",
            "Soul Land Iv The Ultimate Combat \n",
            "Urban Legend Investigation Team \n",
            "Psycho Revenge \n",
            "Against The Gods \n",
            "Son In Law Does Cheap Cultivation \n",
            "Blue Lock \n",
            "Musuko Ga Kawaikute Shikataganai Mazoku No Hahaoya \n",
            "The Duke Of Death And His Black Maid \n",
            "Maou Desu Onna Yuusha No Hahaoya To Saikon Shita No De Onna Yuusha Ga Giri No Musume Ni Narimashita \n",
            "I Am The Sorcerer King \n",
            "Jikan Teishi Yuusha \n",
            "Jikan Teishi Yuusha \n",
            "Kimi Wa Meido Sama \n",
            "Ascension To Godhood By Slaying Demons \n",
            "Kyou No Cerberus \n",
            "Kyou No Cerberus \n",
            "Yuki No Niiduma Wa Boku To Tokeaitai \n",
            "Arafoo Kenja No Isekai Seikatsu Nikki \n",
            "Giri Giri Saegiru Katagirisan \n"
          ]
        },
        {
          "output_type": "stream",
          "name": "stderr",
          "text": [
            " 97%|█████████▋| 1945/2000 [00:19<00:00, 92.67it/s] "
          ]
        },
        {
          "output_type": "stream",
          "name": "stdout",
          "text": [
            "Hinmin Choujin Kanenashi Kun \n",
            "Peerless Soul \n",
            "Dragon Throne \n",
            "Night Bookstore \n",
            "The Strongest Peach Blossom \n",
            "The Strongest Peach Blossom \n",
            "Battle Frenzy \n",
            "Ceos Sudden Proposal \n",
            "Ceos Sudden Proposal \n",
            "Demon Spirit Seed Manual \n",
            "Demonic Housekeeper \n",
            "Demonic Housekeeper \n",
            "Legend Of Phoenix \n",
            "Heaven Defying Sword \n",
            "The Tutorial Is Too Hard \n"
          ]
        },
        {
          "output_type": "stream",
          "name": "stderr",
          "text": [
            "\r 98%|█████████▊| 1955/2000 [00:19<00:00, 84.40it/s]"
          ]
        },
        {
          "output_type": "stream",
          "name": "stdout",
          "text": [
            "The Tutorial Is Too Hard \n",
            "The Tutorial Is Too Hard \n",
            "The Tutorial Is Too Hard \n",
            "The Tutorial Is Too Hard \n",
            "The Tutorial Is Too Hard \n",
            "The Tutorial Is Too Hard \n",
            "The Tutorial Is Too Hard \n",
            "The Tutorial Is Too Hard \n",
            "The Tutorial Is Too Hard \n",
            "The Tutorial Is Too Hard \n",
            "God Slayer \n",
            "I Am An Invincible Genius \n",
            "Mato Seihei No Slave \n",
            "Micah The Blade \n",
            "My Beautiful Time With You \n",
            "Shoukan Sareta Kenja Wa Isekai O Iku Saikyouna No Wa Fuyou Zaiko No Aitemudeshita \n"
          ]
        },
        {
          "output_type": "stream",
          "name": "stderr",
          "text": [
            " 99%|█████████▊| 1973/2000 [00:20<00:00, 81.12it/s]"
          ]
        },
        {
          "output_type": "stream",
          "name": "stdout",
          "text": [
            "Shoukan Sareta Kenja Wa Isekai O Iku Saikyouna No Wa Fuyou Zaiko No Aitemudeshita \n",
            "Super Keyboard Man \n",
            "Tokyo%E5%8D%8Drevengers \n",
            "The Blood Princess And The Knight \n",
            "The Blood Princess And The Knight \n",
            "Versatile Mage \n",
            "Versatile Mage \n",
            "Stalker X Stalker \n",
            "Stalker X Stalker \n",
            "Stalker X Stalker \n",
            "Stalker X Stalker \n",
            "Stalker X Stalker \n",
            "Stalker X Stalker \n",
            "Stalker X Stalker \n",
            "Stalker X Stalker \n",
            "Stalker X Stalker \n"
          ]
        },
        {
          "output_type": "stream",
          "name": "stderr",
          "text": [
            "100%|█████████▉| 1991/2000 [00:20<00:00, 79.67it/s]"
          ]
        },
        {
          "output_type": "stream",
          "name": "stdout",
          "text": [
            "Stalker X Stalker \n",
            "Stalker X Stalker \n",
            "Stalker X Stalker \n",
            "Stalker X Stalker \n",
            "Stalker X Stalker \n",
            "Stalker X Stalker \n",
            "Stalker X Stalker \n",
            "Stalker X Stalker \n",
            "Stalker X Stalker \n",
            "Stalker X Stalker \n",
            "Stalker X Stalker \n",
            "Stalker X Stalker \n",
            "Stalker X Stalker \n",
            "Stalker X Stalker \n",
            "Stalker X Stalker \n",
            "Stalker X Stalker \n"
          ]
        },
        {
          "output_type": "stream",
          "name": "stderr",
          "text": [
            "100%|██████████| 2000/2000 [00:20<00:00, 98.02it/s]"
          ]
        },
        {
          "output_type": "stream",
          "name": "stdout",
          "text": [
            "Stalker X Stalker \n",
            "Stalker X Stalker \n",
            "Stalker X Stalker \n",
            "Stalker X Stalker \n",
            "Stalker X Stalker \n"
          ]
        },
        {
          "output_type": "stream",
          "name": "stderr",
          "text": [
            "\n"
          ]
        }
      ]
    },
    {
      "cell_type": "code",
      "source": [
        "df"
      ],
      "metadata": {
        "colab": {
          "base_uri": "https://localhost:8080/",
          "height": 53
        },
        "id": "mHFvKyO9aTGh",
        "outputId": "9f6f562a-31a5-43fd-cff6-422871351f81"
      },
      "execution_count": 117,
      "outputs": [
        {
          "output_type": "execute_result",
          "data": {
            "text/plain": [
              "Empty DataFrame\n",
              "Columns: [Judul, Chapter, Link]\n",
              "Index: []"
            ],
            "text/html": [
              "\n",
              "  <div id=\"df-b2464bd1-fe0c-4366-b834-ab5eefef4085\" class=\"colab-df-container\">\n",
              "    <div>\n",
              "<style scoped>\n",
              "    .dataframe tbody tr th:only-of-type {\n",
              "        vertical-align: middle;\n",
              "    }\n",
              "\n",
              "    .dataframe tbody tr th {\n",
              "        vertical-align: top;\n",
              "    }\n",
              "\n",
              "    .dataframe thead th {\n",
              "        text-align: right;\n",
              "    }\n",
              "</style>\n",
              "<table border=\"1\" class=\"dataframe\">\n",
              "  <thead>\n",
              "    <tr style=\"text-align: right;\">\n",
              "      <th></th>\n",
              "      <th>Judul</th>\n",
              "      <th>Chapter</th>\n",
              "      <th>Link</th>\n",
              "    </tr>\n",
              "  </thead>\n",
              "  <tbody>\n",
              "  </tbody>\n",
              "</table>\n",
              "</div>\n",
              "    <div class=\"colab-df-buttons\">\n",
              "\n",
              "  <div class=\"colab-df-container\">\n",
              "    <button class=\"colab-df-convert\" onclick=\"convertToInteractive('df-b2464bd1-fe0c-4366-b834-ab5eefef4085')\"\n",
              "            title=\"Convert this dataframe to an interactive table.\"\n",
              "            style=\"display:none;\">\n",
              "\n",
              "  <svg xmlns=\"http://www.w3.org/2000/svg\" height=\"24px\" viewBox=\"0 -960 960 960\">\n",
              "    <path d=\"M120-120v-720h720v720H120Zm60-500h600v-160H180v160Zm220 220h160v-160H400v160Zm0 220h160v-160H400v160ZM180-400h160v-160H180v160Zm440 0h160v-160H620v160ZM180-180h160v-160H180v160Zm440 0h160v-160H620v160Z\"/>\n",
              "  </svg>\n",
              "    </button>\n",
              "\n",
              "  <style>\n",
              "    .colab-df-container {\n",
              "      display:flex;\n",
              "      gap: 12px;\n",
              "    }\n",
              "\n",
              "    .colab-df-convert {\n",
              "      background-color: #E8F0FE;\n",
              "      border: none;\n",
              "      border-radius: 50%;\n",
              "      cursor: pointer;\n",
              "      display: none;\n",
              "      fill: #1967D2;\n",
              "      height: 32px;\n",
              "      padding: 0 0 0 0;\n",
              "      width: 32px;\n",
              "    }\n",
              "\n",
              "    .colab-df-convert:hover {\n",
              "      background-color: #E2EBFA;\n",
              "      box-shadow: 0px 1px 2px rgba(60, 64, 67, 0.3), 0px 1px 3px 1px rgba(60, 64, 67, 0.15);\n",
              "      fill: #174EA6;\n",
              "    }\n",
              "\n",
              "    .colab-df-buttons div {\n",
              "      margin-bottom: 4px;\n",
              "    }\n",
              "\n",
              "    [theme=dark] .colab-df-convert {\n",
              "      background-color: #3B4455;\n",
              "      fill: #D2E3FC;\n",
              "    }\n",
              "\n",
              "    [theme=dark] .colab-df-convert:hover {\n",
              "      background-color: #434B5C;\n",
              "      box-shadow: 0px 1px 3px 1px rgba(0, 0, 0, 0.15);\n",
              "      filter: drop-shadow(0px 1px 2px rgba(0, 0, 0, 0.3));\n",
              "      fill: #FFFFFF;\n",
              "    }\n",
              "  </style>\n",
              "\n",
              "    <script>\n",
              "      const buttonEl =\n",
              "        document.querySelector('#df-b2464bd1-fe0c-4366-b834-ab5eefef4085 button.colab-df-convert');\n",
              "      buttonEl.style.display =\n",
              "        google.colab.kernel.accessAllowed ? 'block' : 'none';\n",
              "\n",
              "      async function convertToInteractive(key) {\n",
              "        const element = document.querySelector('#df-b2464bd1-fe0c-4366-b834-ab5eefef4085');\n",
              "        const dataTable =\n",
              "          await google.colab.kernel.invokeFunction('convertToInteractive',\n",
              "                                                    [key], {});\n",
              "        if (!dataTable) return;\n",
              "\n",
              "        const docLinkHtml = 'Like what you see? Visit the ' +\n",
              "          '<a target=\"_blank\" href=https://colab.research.google.com/notebooks/data_table.ipynb>data table notebook</a>'\n",
              "          + ' to learn more about interactive tables.';\n",
              "        element.innerHTML = '';\n",
              "        dataTable['output_type'] = 'display_data';\n",
              "        await google.colab.output.renderOutput(dataTable, element);\n",
              "        const docLink = document.createElement('div');\n",
              "        docLink.innerHTML = docLinkHtml;\n",
              "        element.appendChild(docLink);\n",
              "      }\n",
              "    </script>\n",
              "  </div>\n",
              "\n",
              "    </div>\n",
              "  </div>\n"
            ]
          },
          "metadata": {},
          "execution_count": 117
        }
      ]
    },
    {
      "cell_type": "code",
      "source": [
        "df = df.sort_values(by=\"Judul\")\n",
        "df"
      ],
      "metadata": {
        "colab": {
          "base_uri": "https://localhost:8080/",
          "height": 423
        },
        "id": "ZCLrDobtPGV5",
        "outputId": "66d384c3-76a1-4ca7-eded-712ad7f8f86a"
      },
      "execution_count": 105,
      "outputs": [
        {
          "output_type": "execute_result",
          "data": {
            "text/plain": [
              "              Judul Chapter                                               Link\n",
              "0         07 Ghost       20  https://komiku.org/baca-07-ghost-bahasa-indone...\n",
              "22        07 Ghost       39  https://komiku.org/baca-07-ghost-bahasa-indone...\n",
              "23        07 Ghost       40  https://komiku.org/baca-07-ghost-bahasa-indone...\n",
              "24        07 Ghost       34  https://komiku.org/baca-07-ghost-bahasa-indone...\n",
              "25        07 Ghost       33  https://komiku.org/baca-07-ghost-bahasa-indone...\n",
              "...             ...     ...                                                ...\n",
              "94264  __Trashed 88       0                   https://komiku.org/__trashed-88/\n",
              "94265   __Trashed 9       0                    https://komiku.org/__trashed-9/\n",
              "94266  __Trashed 90       0                   https://komiku.org/__trashed-90/\n",
              "94267  __Trashed 91       0                   https://komiku.org/__trashed-91/\n",
              "94268  __Trashed 99       0                   https://komiku.org/__trashed-99/\n",
              "\n",
              "[94538 rows x 3 columns]"
            ],
            "text/html": [
              "\n",
              "  <div id=\"df-324c1fe7-d24d-4534-850e-47b6f0aa10e1\" class=\"colab-df-container\">\n",
              "    <div>\n",
              "<style scoped>\n",
              "    .dataframe tbody tr th:only-of-type {\n",
              "        vertical-align: middle;\n",
              "    }\n",
              "\n",
              "    .dataframe tbody tr th {\n",
              "        vertical-align: top;\n",
              "    }\n",
              "\n",
              "    .dataframe thead th {\n",
              "        text-align: right;\n",
              "    }\n",
              "</style>\n",
              "<table border=\"1\" class=\"dataframe\">\n",
              "  <thead>\n",
              "    <tr style=\"text-align: right;\">\n",
              "      <th></th>\n",
              "      <th>Judul</th>\n",
              "      <th>Chapter</th>\n",
              "      <th>Link</th>\n",
              "    </tr>\n",
              "  </thead>\n",
              "  <tbody>\n",
              "    <tr>\n",
              "      <th>0</th>\n",
              "      <td>07 Ghost</td>\n",
              "      <td>20</td>\n",
              "      <td>https://komiku.org/baca-07-ghost-bahasa-indone...</td>\n",
              "    </tr>\n",
              "    <tr>\n",
              "      <th>22</th>\n",
              "      <td>07 Ghost</td>\n",
              "      <td>39</td>\n",
              "      <td>https://komiku.org/baca-07-ghost-bahasa-indone...</td>\n",
              "    </tr>\n",
              "    <tr>\n",
              "      <th>23</th>\n",
              "      <td>07 Ghost</td>\n",
              "      <td>40</td>\n",
              "      <td>https://komiku.org/baca-07-ghost-bahasa-indone...</td>\n",
              "    </tr>\n",
              "    <tr>\n",
              "      <th>24</th>\n",
              "      <td>07 Ghost</td>\n",
              "      <td>34</td>\n",
              "      <td>https://komiku.org/baca-07-ghost-bahasa-indone...</td>\n",
              "    </tr>\n",
              "    <tr>\n",
              "      <th>25</th>\n",
              "      <td>07 Ghost</td>\n",
              "      <td>33</td>\n",
              "      <td>https://komiku.org/baca-07-ghost-bahasa-indone...</td>\n",
              "    </tr>\n",
              "    <tr>\n",
              "      <th>...</th>\n",
              "      <td>...</td>\n",
              "      <td>...</td>\n",
              "      <td>...</td>\n",
              "    </tr>\n",
              "    <tr>\n",
              "      <th>94264</th>\n",
              "      <td>__Trashed 88</td>\n",
              "      <td>0</td>\n",
              "      <td>https://komiku.org/__trashed-88/</td>\n",
              "    </tr>\n",
              "    <tr>\n",
              "      <th>94265</th>\n",
              "      <td>__Trashed 9</td>\n",
              "      <td>0</td>\n",
              "      <td>https://komiku.org/__trashed-9/</td>\n",
              "    </tr>\n",
              "    <tr>\n",
              "      <th>94266</th>\n",
              "      <td>__Trashed 90</td>\n",
              "      <td>0</td>\n",
              "      <td>https://komiku.org/__trashed-90/</td>\n",
              "    </tr>\n",
              "    <tr>\n",
              "      <th>94267</th>\n",
              "      <td>__Trashed 91</td>\n",
              "      <td>0</td>\n",
              "      <td>https://komiku.org/__trashed-91/</td>\n",
              "    </tr>\n",
              "    <tr>\n",
              "      <th>94268</th>\n",
              "      <td>__Trashed 99</td>\n",
              "      <td>0</td>\n",
              "      <td>https://komiku.org/__trashed-99/</td>\n",
              "    </tr>\n",
              "  </tbody>\n",
              "</table>\n",
              "<p>94538 rows × 3 columns</p>\n",
              "</div>\n",
              "    <div class=\"colab-df-buttons\">\n",
              "\n",
              "  <div class=\"colab-df-container\">\n",
              "    <button class=\"colab-df-convert\" onclick=\"convertToInteractive('df-324c1fe7-d24d-4534-850e-47b6f0aa10e1')\"\n",
              "            title=\"Convert this dataframe to an interactive table.\"\n",
              "            style=\"display:none;\">\n",
              "\n",
              "  <svg xmlns=\"http://www.w3.org/2000/svg\" height=\"24px\" viewBox=\"0 -960 960 960\">\n",
              "    <path d=\"M120-120v-720h720v720H120Zm60-500h600v-160H180v160Zm220 220h160v-160H400v160Zm0 220h160v-160H400v160ZM180-400h160v-160H180v160Zm440 0h160v-160H620v160ZM180-180h160v-160H180v160Zm440 0h160v-160H620v160Z\"/>\n",
              "  </svg>\n",
              "    </button>\n",
              "\n",
              "  <style>\n",
              "    .colab-df-container {\n",
              "      display:flex;\n",
              "      gap: 12px;\n",
              "    }\n",
              "\n",
              "    .colab-df-convert {\n",
              "      background-color: #E8F0FE;\n",
              "      border: none;\n",
              "      border-radius: 50%;\n",
              "      cursor: pointer;\n",
              "      display: none;\n",
              "      fill: #1967D2;\n",
              "      height: 32px;\n",
              "      padding: 0 0 0 0;\n",
              "      width: 32px;\n",
              "    }\n",
              "\n",
              "    .colab-df-convert:hover {\n",
              "      background-color: #E2EBFA;\n",
              "      box-shadow: 0px 1px 2px rgba(60, 64, 67, 0.3), 0px 1px 3px 1px rgba(60, 64, 67, 0.15);\n",
              "      fill: #174EA6;\n",
              "    }\n",
              "\n",
              "    .colab-df-buttons div {\n",
              "      margin-bottom: 4px;\n",
              "    }\n",
              "\n",
              "    [theme=dark] .colab-df-convert {\n",
              "      background-color: #3B4455;\n",
              "      fill: #D2E3FC;\n",
              "    }\n",
              "\n",
              "    [theme=dark] .colab-df-convert:hover {\n",
              "      background-color: #434B5C;\n",
              "      box-shadow: 0px 1px 3px 1px rgba(0, 0, 0, 0.15);\n",
              "      filter: drop-shadow(0px 1px 2px rgba(0, 0, 0, 0.3));\n",
              "      fill: #FFFFFF;\n",
              "    }\n",
              "  </style>\n",
              "\n",
              "    <script>\n",
              "      const buttonEl =\n",
              "        document.querySelector('#df-324c1fe7-d24d-4534-850e-47b6f0aa10e1 button.colab-df-convert');\n",
              "      buttonEl.style.display =\n",
              "        google.colab.kernel.accessAllowed ? 'block' : 'none';\n",
              "\n",
              "      async function convertToInteractive(key) {\n",
              "        const element = document.querySelector('#df-324c1fe7-d24d-4534-850e-47b6f0aa10e1');\n",
              "        const dataTable =\n",
              "          await google.colab.kernel.invokeFunction('convertToInteractive',\n",
              "                                                    [key], {});\n",
              "        if (!dataTable) return;\n",
              "\n",
              "        const docLinkHtml = 'Like what you see? Visit the ' +\n",
              "          '<a target=\"_blank\" href=https://colab.research.google.com/notebooks/data_table.ipynb>data table notebook</a>'\n",
              "          + ' to learn more about interactive tables.';\n",
              "        element.innerHTML = '';\n",
              "        dataTable['output_type'] = 'display_data';\n",
              "        await google.colab.output.renderOutput(dataTable, element);\n",
              "        const docLink = document.createElement('div');\n",
              "        docLink.innerHTML = docLinkHtml;\n",
              "        element.appendChild(docLink);\n",
              "      }\n",
              "    </script>\n",
              "  </div>\n",
              "\n",
              "\n",
              "<div id=\"df-cdeef841-d11d-4dc7-b34c-2b232499435c\">\n",
              "  <button class=\"colab-df-quickchart\" onclick=\"quickchart('df-cdeef841-d11d-4dc7-b34c-2b232499435c')\"\n",
              "            title=\"Suggest charts.\"\n",
              "            style=\"display:none;\">\n",
              "\n",
              "<svg xmlns=\"http://www.w3.org/2000/svg\" height=\"24px\"viewBox=\"0 0 24 24\"\n",
              "     width=\"24px\">\n",
              "    <g>\n",
              "        <path d=\"M19 3H5c-1.1 0-2 .9-2 2v14c0 1.1.9 2 2 2h14c1.1 0 2-.9 2-2V5c0-1.1-.9-2-2-2zM9 17H7v-7h2v7zm4 0h-2V7h2v10zm4 0h-2v-4h2v4z\"/>\n",
              "    </g>\n",
              "</svg>\n",
              "  </button>\n",
              "\n",
              "<style>\n",
              "  .colab-df-quickchart {\n",
              "      --bg-color: #E8F0FE;\n",
              "      --fill-color: #1967D2;\n",
              "      --hover-bg-color: #E2EBFA;\n",
              "      --hover-fill-color: #174EA6;\n",
              "      --disabled-fill-color: #AAA;\n",
              "      --disabled-bg-color: #DDD;\n",
              "  }\n",
              "\n",
              "  [theme=dark] .colab-df-quickchart {\n",
              "      --bg-color: #3B4455;\n",
              "      --fill-color: #D2E3FC;\n",
              "      --hover-bg-color: #434B5C;\n",
              "      --hover-fill-color: #FFFFFF;\n",
              "      --disabled-bg-color: #3B4455;\n",
              "      --disabled-fill-color: #666;\n",
              "  }\n",
              "\n",
              "  .colab-df-quickchart {\n",
              "    background-color: var(--bg-color);\n",
              "    border: none;\n",
              "    border-radius: 50%;\n",
              "    cursor: pointer;\n",
              "    display: none;\n",
              "    fill: var(--fill-color);\n",
              "    height: 32px;\n",
              "    padding: 0;\n",
              "    width: 32px;\n",
              "  }\n",
              "\n",
              "  .colab-df-quickchart:hover {\n",
              "    background-color: var(--hover-bg-color);\n",
              "    box-shadow: 0 1px 2px rgba(60, 64, 67, 0.3), 0 1px 3px 1px rgba(60, 64, 67, 0.15);\n",
              "    fill: var(--button-hover-fill-color);\n",
              "  }\n",
              "\n",
              "  .colab-df-quickchart-complete:disabled,\n",
              "  .colab-df-quickchart-complete:disabled:hover {\n",
              "    background-color: var(--disabled-bg-color);\n",
              "    fill: var(--disabled-fill-color);\n",
              "    box-shadow: none;\n",
              "  }\n",
              "\n",
              "  .colab-df-spinner {\n",
              "    border: 2px solid var(--fill-color);\n",
              "    border-color: transparent;\n",
              "    border-bottom-color: var(--fill-color);\n",
              "    animation:\n",
              "      spin 1s steps(1) infinite;\n",
              "  }\n",
              "\n",
              "  @keyframes spin {\n",
              "    0% {\n",
              "      border-color: transparent;\n",
              "      border-bottom-color: var(--fill-color);\n",
              "      border-left-color: var(--fill-color);\n",
              "    }\n",
              "    20% {\n",
              "      border-color: transparent;\n",
              "      border-left-color: var(--fill-color);\n",
              "      border-top-color: var(--fill-color);\n",
              "    }\n",
              "    30% {\n",
              "      border-color: transparent;\n",
              "      border-left-color: var(--fill-color);\n",
              "      border-top-color: var(--fill-color);\n",
              "      border-right-color: var(--fill-color);\n",
              "    }\n",
              "    40% {\n",
              "      border-color: transparent;\n",
              "      border-right-color: var(--fill-color);\n",
              "      border-top-color: var(--fill-color);\n",
              "    }\n",
              "    60% {\n",
              "      border-color: transparent;\n",
              "      border-right-color: var(--fill-color);\n",
              "    }\n",
              "    80% {\n",
              "      border-color: transparent;\n",
              "      border-right-color: var(--fill-color);\n",
              "      border-bottom-color: var(--fill-color);\n",
              "    }\n",
              "    90% {\n",
              "      border-color: transparent;\n",
              "      border-bottom-color: var(--fill-color);\n",
              "    }\n",
              "  }\n",
              "</style>\n",
              "\n",
              "  <script>\n",
              "    async function quickchart(key) {\n",
              "      const quickchartButtonEl =\n",
              "        document.querySelector('#' + key + ' button');\n",
              "      quickchartButtonEl.disabled = true;  // To prevent multiple clicks.\n",
              "      quickchartButtonEl.classList.add('colab-df-spinner');\n",
              "      try {\n",
              "        const charts = await google.colab.kernel.invokeFunction(\n",
              "            'suggestCharts', [key], {});\n",
              "      } catch (error) {\n",
              "        console.error('Error during call to suggestCharts:', error);\n",
              "      }\n",
              "      quickchartButtonEl.classList.remove('colab-df-spinner');\n",
              "      quickchartButtonEl.classList.add('colab-df-quickchart-complete');\n",
              "    }\n",
              "    (() => {\n",
              "      let quickchartButtonEl =\n",
              "        document.querySelector('#df-cdeef841-d11d-4dc7-b34c-2b232499435c button');\n",
              "      quickchartButtonEl.style.display =\n",
              "        google.colab.kernel.accessAllowed ? 'block' : 'none';\n",
              "    })();\n",
              "  </script>\n",
              "</div>\n",
              "    </div>\n",
              "  </div>\n"
            ]
          },
          "metadata": {},
          "execution_count": 105
        }
      ]
    },
    {
      "cell_type": "code",
      "source": [
        "# Menyimpan DataFrame ke dalam file Excel\n",
        "df.to_excel(\"komiku.xlsx\", index=False)"
      ],
      "metadata": {
        "id": "rg7Kcyt5WA2v"
      },
      "execution_count": null,
      "outputs": []
    }
  ]
}